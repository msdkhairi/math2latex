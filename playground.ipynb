{
 "cells": [
  {
   "cell_type": "code",
   "execution_count": 2,
   "metadata": {},
   "outputs": [
    {
     "data": {
      "text/plain": [
       "'3.0.5'"
      ]
     },
     "execution_count": 2,
     "metadata": {},
     "output_type": "execute_result"
    }
   ],
   "source": [
    "import keras\n",
    "keras.__version__"
   ]
  },
  {
   "cell_type": "code",
   "execution_count": 1,
   "metadata": {},
   "outputs": [
    {
     "name": "stderr",
     "output_type": "stream",
     "text": [
      "2024-03-13 08:52:05.545551: I external/local_tsl/tsl/cuda/cudart_stub.cc:32] Could not find cuda drivers on your machine, GPU will not be used.\n",
      "2024-03-13 08:52:05.731354: I external/local_tsl/tsl/cuda/cudart_stub.cc:32] Could not find cuda drivers on your machine, GPU will not be used.\n",
      "2024-03-13 08:52:06.354679: I tensorflow/core/platform/cpu_feature_guard.cc:210] This TensorFlow binary is optimized to use available CPU instructions in performance-critical operations.\n",
      "To enable the following instructions: AVX2 FMA, in other operations, rebuild TensorFlow with the appropriate compiler flags.\n",
      "2024-03-13 08:52:12.881575: W tensorflow/compiler/tf2tensorrt/utils/py_utils.cc:38] TF-TRT Warning: Could not find TensorRT\n"
     ]
    }
   ],
   "source": [
    "import tensorflow as tf"
   ]
  },
  {
   "cell_type": "code",
   "execution_count": 3,
   "metadata": {},
   "outputs": [
    {
     "ename": "ModuleNotFoundError",
     "evalue": "No module named 'keras.preprocessing.text'",
     "output_type": "error",
     "traceback": [
      "\u001b[0;31m---------------------------------------------------------------------------\u001b[0m",
      "\u001b[0;31mModuleNotFoundError\u001b[0m                       Traceback (most recent call last)",
      "Cell \u001b[0;32mIn[3], line 1\u001b[0m\n\u001b[0;32m----> 1\u001b[0m \u001b[38;5;28;01mfrom\u001b[39;00m \u001b[38;5;21;01mkeras\u001b[39;00m\u001b[38;5;21;01m.\u001b[39;00m\u001b[38;5;21;01mpreprocessing\u001b[39;00m\u001b[38;5;21;01m.\u001b[39;00m\u001b[38;5;21;01mtext\u001b[39;00m \u001b[38;5;28;01mimport\u001b[39;00m Tokenizer\n",
      "\u001b[0;31mModuleNotFoundError\u001b[0m: No module named 'keras.preprocessing.text'"
     ]
    }
   ],
   "source": [
    "from keras.preprocessing.text import Tokenizer"
   ]
  },
  {
   "cell_type": "code",
   "execution_count": 1,
   "metadata": {},
   "outputs": [
    {
     "name": "stderr",
     "output_type": "stream",
     "text": [
      "2024-03-11 19:01:52.277398: I external/local_tsl/tsl/cuda/cudart_stub.cc:31] Could not find cuda drivers on your machine, GPU will not be used.\n",
      "2024-03-11 19:01:52.323235: E external/local_xla/xla/stream_executor/cuda/cuda_dnn.cc:9261] Unable to register cuDNN factory: Attempting to register factory for plugin cuDNN when one has already been registered\n",
      "2024-03-11 19:01:52.323296: E external/local_xla/xla/stream_executor/cuda/cuda_fft.cc:607] Unable to register cuFFT factory: Attempting to register factory for plugin cuFFT when one has already been registered\n",
      "2024-03-11 19:01:52.324780: E external/local_xla/xla/stream_executor/cuda/cuda_blas.cc:1515] Unable to register cuBLAS factory: Attempting to register factory for plugin cuBLAS when one has already been registered\n",
      "2024-03-11 19:01:52.332712: I external/local_tsl/tsl/cuda/cudart_stub.cc:31] Could not find cuda drivers on your machine, GPU will not be used.\n",
      "2024-03-11 19:01:52.333851: I tensorflow/core/platform/cpu_feature_guard.cc:182] This TensorFlow binary is optimized to use available CPU instructions in performance-critical operations.\n",
      "To enable the following instructions: AVX2 FMA, in other operations, rebuild TensorFlow with the appropriate compiler flags.\n",
      "2024-03-11 19:01:53.310558: W tensorflow/compiler/tf2tensorrt/utils/py_utils.cc:38] TF-TRT Warning: Could not find TensorRT\n"
     ]
    }
   ],
   "source": [
    "# magic command for reload \n",
    "%load_ext autoreload\n",
    "%autoreload 2\n",
    "\n",
    "from utils import *\n",
    "from dataset import *"
   ]
  },
  {
   "cell_type": "code",
   "execution_count": 2,
   "metadata": {},
   "outputs": [],
   "source": [
    "# Example usage:\n",
    "image_dir = 'dataset/formula_images_processed/'\n",
    "image_list_file = 'dataset/im2latex_train_filter.lst'\n",
    "label_file = 'dataset/im2latex_formulas.norm.lst'"
   ]
  },
  {
   "cell_type": "code",
   "execution_count": 25,
   "metadata": {},
   "outputs": [
    {
     "name": "stdout",
     "output_type": "stream",
     "text": [
      "after init: len(self.word_index) 0\n",
      "{}\n",
      "after special token: len(self.word_index) 415\n",
      "after fiting: len(self.word_index) 418\n"
     ]
    }
   ],
   "source": [
    "# get all formulas\n",
    "formulas = get_formulas(label_file)\n",
    "\n",
    "# # get max length of formulas\n",
    "# max_len = get_max_length(formulas)\n",
    "\n",
    "# get a histogram of formula lengths\n",
    "hist = get_formula_length_histogram(formulas)\n",
    "\n",
    "# set max_len to where formula occurs at least 100 times using histogram\n",
    "max_len = get_max_length(formulas, min_occurrences=100)\n",
    "\n",
    "tokenizer = TokenizerWrap(formulas, max_len, reverse=True)"
   ]
  },
  {
   "cell_type": "code",
   "execution_count": 19,
   "metadata": {},
   "outputs": [
    {
     "data": {
      "text/plain": [
       "(103559, 150)"
      ]
     },
     "execution_count": 19,
     "metadata": {},
     "output_type": "execute_result"
    }
   ],
   "source": [
    "tokenizer.tokens.shape"
   ]
  },
  {
   "cell_type": "code",
   "execution_count": 26,
   "metadata": {},
   "outputs": [
    {
     "data": {
      "text/plain": [
       "{'<UNK>': 1,\n",
       " '2': 2,\n",
       " '1': 3,\n",
       " 'frac': 4,\n",
       " 'i': 5,\n",
       " 'a': 6,\n",
       " 'n': 7,\n",
       " '0': 8,\n",
       " 'x': 9,\n",
       " 'd': 10,\n",
       " 'm': 11,\n",
       " 'r': 12,\n",
       " 'c': 13,\n",
       " 'e': 14,\n",
       " 't': 15,\n",
       " 'l': 16,\n",
       " 'k': 17,\n",
       " 's': 18,\n",
       " 'mu': 19,\n",
       " 'p': 20,\n",
       " 'left': 21,\n",
       " 'right': 22,\n",
       " 'j': 23,\n",
       " 'b': 24,\n",
       " 'g': 25,\n",
       " 'f': 26,\n",
       " '3': 27,\n",
       " 'alpha': 28,\n",
       " 'partial': 29,\n",
       " 'phi': 30,\n",
       " 'z': 31,\n",
       " '4': 32,\n",
       " 'q': 33,\n",
       " 'h': 34,\n",
       " 'prime': 35,\n",
       " 'pi': 36,\n",
       " 'lambda': 37,\n",
       " 'delta': 38,\n",
       " 'nu': 39,\n",
       " 'gamma': 40,\n",
       " 'u': 41,\n",
       " 'v': 42,\n",
       " 'mathrm': 43,\n",
       " 'operatorname': 44,\n",
       " 'cal': 45,\n",
       " 'y': 46,\n",
       " 'psi': 47,\n",
       " 'sigma': 48,\n",
       " 'beta': 49,\n",
       " 'bar': 50,\n",
       " 'int': 51,\n",
       " 'array': 52,\n",
       " 'theta': 53,\n",
       " 'omega': 54,\n",
       " 'o': 55,\n",
       " 'hat': 56,\n",
       " 'w': 57,\n",
       " 'sqrt': 58,\n",
       " 'sum': 59,\n",
       " 'rho': 60,\n",
       " 'tilde': 61,\n",
       " 'tau': 62,\n",
       " 'epsilon': 63,\n",
       " 'bf': 64,\n",
       " 'xi': 65,\n",
       " 'eta': 66,\n",
       " 'quad': 67,\n",
       " '5': 68,\n",
       " 'vec': 69,\n",
       " 'begin': 70,\n",
       " 'end': 71,\n",
       " 'infty': 72,\n",
       " '6': 73,\n",
       " 'rangle': 74,\n",
       " 'dot': 75,\n",
       " 'pm': 76,\n",
       " 'varphi': 77,\n",
       " 'chi': 78,\n",
       " '8': 79,\n",
       " 'kappa': 80,\n",
       " 'qquad': 81,\n",
       " 'cdot': 82,\n",
       " 'equiv': 83,\n",
       " 'langle': 84,\n",
       " 'overline': 85,\n",
       " 'dagger': 86,\n",
       " 'rightarrow': 87,\n",
       " 'zeta': 88,\n",
       " 'varepsilon': 89,\n",
       " 'cdots': 90,\n",
       " 'nabla': 91,\n",
       " 'ldots': 92,\n",
       " 'big': 93,\n",
       " 'ell': 94,\n",
       " '7': 95,\n",
       " 'mathcal': 96,\n",
       " 'otimes': 97,\n",
       " 'prod': 98,\n",
       " 'wedge': 99,\n",
       " '9': 100,\n",
       " 'hspace': 101,\n",
       " 'hbar': 102,\n",
       " 'sim': 103,\n",
       " 'vert': 104,\n",
       " 'in': 105,\n",
       " 'widetilde': 106,\n",
       " 'displaystyle': 107,\n",
       " 'times': 108,\n",
       " 'underline': 109,\n",
       " 'mid': 110,\n",
       " 'to': 111,\n",
       " 'dots': 112,\n",
       " 'mathbf': 113,\n",
       " 'bigr': 114,\n",
       " 'ast': 115,\n",
       " 'bigl': 116,\n",
       " 'leq': 117,\n",
       " 'approx': 118,\n",
       " 'star': 119,\n",
       " 'stackrel': 120,\n",
       " 'perp': 121,\n",
       " 'widehat': 122,\n",
       " 'bigg': 123,\n",
       " 'vartheta': 124,\n",
       " \"'\": 125,\n",
       " 'biggl': 126,\n",
       " 'biggr': 127,\n",
       " 'geq': 128,\n",
       " 'mp': 129,\n",
       " 'dag': 130,\n",
       " 'neq': 131,\n",
       " 'simeq': 132,\n",
       " 'longrightarrow': 133,\n",
       " 'textstyle': 134,\n",
       " 'circ': 135,\n",
       " 'oint': 136,\n",
       " 'not': 137,\n",
       " 'boldmath': 138,\n",
       " 'ddot': 139,\n",
       " 'oplus': 140,\n",
       " 'put': 141,\n",
       " 'nonumber': 142,\n",
       " 'le': 143,\n",
       " 'check': 144,\n",
       " 'propto': 145,\n",
       " 'leftrightarrow': 146,\n",
       " 'triangle': 147,\n",
       " 'hline': 148,\n",
       " 'varrho': 149,\n",
       " 'vdots': 150,\n",
       " 'ge': 151,\n",
       " 'imath': 152,\n",
       " 'sp': 153,\n",
       " 'forall': 154,\n",
       " 'iota': 155,\n",
       " 'scriptscriptstyle': 156,\n",
       " 'bot': 157,\n",
       " 'upsilon': 158,\n",
       " 'lbrack': 159,\n",
       " 'line': 160,\n",
       " 'parallel': 161,\n",
       " 'textrm': 162,\n",
       " 'scriptsize': 163,\n",
       " 'it': 164,\n",
       " 'phantom': 165,\n",
       " 'mapsto': 166,\n",
       " 'subset': 167,\n",
       " 'sf': 168,\n",
       " 'jmath': 169,\n",
       " 'binom': 170,\n",
       " 'tiny': 171,\n",
       " 'overrightarrow': 172,\n",
       " 'wp': 173,\n",
       " 'scriptstyle': 174,\n",
       " 'ne': 175,\n",
       " 'll': 176,\n",
       " 'kern': 177,\n",
       " 'downarrow': 178,\n",
       " 'bullet': 179,\n",
       " 'gg': 180,\n",
       " 'atop': 181,\n",
       " 'breve': 182,\n",
       " 'uparrow': 183,\n",
       " 'cong': 184,\n",
       " 'large': 185,\n",
       " 'vee': 186,\n",
       " 'bigoplus': 187,\n",
       " 'small': 188,\n",
       " 'im': 189,\n",
       " 'rbrack': 190,\n",
       " 'longleftrightarrow': 191,\n",
       " 'underbrace': 192,\n",
       " 'makebox': 193,\n",
       " 'varpi': 194,\n",
       " 'sb': 195,\n",
       " 'cap': 196,\n",
       " 'ddots': 197,\n",
       " 'mathsf': 198,\n",
       " 'cup': 199,\n",
       " 'lbrace': 200,\n",
       " 'rbrace': 201,\n",
       " 'slash': 202,\n",
       " 're': 203,\n",
       " 'vspace': 204,\n",
       " 'mit': 205,\n",
       " 'acute': 206,\n",
       " 'rightharpoonup': 207,\n",
       " 'supset': 208,\n",
       " 'raisebox': 209,\n",
       " 'varsigma': 210,\n",
       " 'noalign': 211,\n",
       " 'circle': 212,\n",
       " 'bigtriangleup': 213,\n",
       " 'null': 214,\n",
       " 'footnotesize': 215,\n",
       " 'vphantom': 216,\n",
       " 'raise': 217,\n",
       " 'protect': 218,\n",
       " 'leftarrow': 219,\n",
       " 'llap': 220,\n",
       " 'buildrel': 221,\n",
       " 'object': 222,\n",
       " 'overleftarrow': 223,\n",
       " 'enspace': 224,\n",
       " 'sl': 225,\n",
       " 'diamond': 226,\n",
       " 'hfill': 227,\n",
       " 'rfloor': 228,\n",
       " 'ule': 229,\n",
       " 'bigotimes': 230,\n",
       " 'tt': 231,\n",
       " 'doteq': 232,\n",
       " 'textbf': 233,\n",
       " 'cdotp': 234,\n",
       " 'unitlength': 235,\n",
       " 'emptyset': 236,\n",
       " 'mm': 237,\n",
       " 'mathop': 238,\n",
       " 'cm': 239,\n",
       " 'fbox': 240,\n",
       " 'ref': 241,\n",
       " 'aleph': 242,\n",
       " 'backslash': 243,\n",
       " 'label': 244,\n",
       " 'sharp': 245,\n",
       " 'longmapsto': 246,\n",
       " 'textup': 247,\n",
       " 'subseteq': 248,\n",
       " 'relax': 249,\n",
       " 'overbrace': 250,\n",
       " 'mathit': 251,\n",
       " 'flat': 252,\n",
       " 'vskip': 253,\n",
       " 'bigcup': 254,\n",
       " 'ni': 255,\n",
       " 'odot': 256,\n",
       " 'setlength': 257,\n",
       " 'colon': 258,\n",
       " 'strut': 259,\n",
       " 'thinspace': 260,\n",
       " 'longleftarrow': 261,\n",
       " 'smallskip': 262,\n",
       " 'lfloor': 263,\n",
       " 'bigwedge': 264,\n",
       " 'pounds': 265,\n",
       " 'ominus': 266,\n",
       " 'land': 267,\n",
       " 'bmod': 268,\n",
       " 'bigtriangledown': 269,\n",
       " 'multicolumn': 270,\n",
       " 'medskip': 271,\n",
       " 'parbox': 272,\n",
       " 'arraystretch': 273,\n",
       " 'framebox': 274,\n",
       " 'vrule': 275,\n",
       " 'hrule': 276,\n",
       " 'hookrightarrow': 277,\n",
       " 'vline': 278,\n",
       " 'enskip': 279,\n",
       " 'renewcommand': 280,\n",
       " 'setminus': 281,\n",
       " 'pt': 282,\n",
       " 'bigcap': 283,\n",
       " 'lower': 284,\n",
       " 'natural': 285,\n",
       " 'hfil': 286,\n",
       " 'rlap': 287,\n",
       " 'textit': 288,\n",
       " 'diamondsuit': 289,\n",
       " 'space': 290,\n",
       " 'vector': 291,\n",
       " 'bigm': 292,\n",
       " 'pmod': 293,\n",
       " 'texttt': 294,\n",
       " 'ddagger': 295,\n",
       " 'thicklines': 296,\n",
       " 'top': 297,\n",
       " 'sc': 298,\n",
       " 'smash': 299,\n",
       " 'triangleright': 300,\n",
       " 'vdash': 301,\n",
       " 'searrow': 302,\n",
       " 'exists': 303,\n",
       " 'bigcirc': 304,\n",
       " 'surd': 305,\n",
       " 'oval': 306,\n",
       " 'huge': 307,\n",
       " 'hphantom': 308,\n",
       " 'textnormal': 309,\n",
       " 'normalsize': 310,\n",
       " 'arraycolsep': 311,\n",
       " 'sqcup': 312,\n",
       " 'special': 313,\n",
       " 'mathbin': 314,\n",
       " 'lefteqn': 315,\n",
       " '14': 316,\n",
       " 'mkern': 317,\n",
       " 'biggm': 318,\n",
       " 'cite': 319,\n",
       " 'ss': 320,\n",
       " 'mathrel': 321,\n",
       " 'lceil': 322,\n",
       " 'aa': 323,\n",
       " 'textsf': 324,\n",
       " 'footnote': 325,\n",
       " 'supseteq': 326,\n",
       " 'unboldmath': 327,\n",
       " 'sqcap': 328,\n",
       " 'multiput': 329,\n",
       " 'itshape': 330,\n",
       " 'do': 331,\n",
       " '16': 332,\n",
       " 'linethickness': 333,\n",
       " 'asymp': 334,\n",
       " 'qbezier': 335,\n",
       " 'ae': 336,\n",
       " 'prec': 337,\n",
       " 'hskip': 338,\n",
       " 'ooalign': 339,\n",
       " 'crcr': 340,\n",
       " 'triangleleft': 341,\n",
       " 'ensuremath': 342,\n",
       " 'mathopen': 343,\n",
       " 'mathclose': 344,\n",
       " 'nulldelimiterspace': 345,\n",
       " 'amalg': 346,\n",
       " 'rightleftharpoons': 347,\n",
       " 'ddag': 348,\n",
       " 'lgroup': 349,\n",
       " 'rgroup': 350,\n",
       " 'nearrow': 351,\n",
       " 'grave': 352,\n",
       " 'bigskip': 353,\n",
       " 'succeq': 354,\n",
       " 'bigsqcup': 355,\n",
       " 'protectu': 356,\n",
       " 'preceq': 357,\n",
       " 'succ': 358,\n",
       " 'oslash': 359,\n",
       " 'setcounter': 360,\n",
       " 'smile': 361,\n",
       " 'vcenter': 362,\n",
       " 'mathord': 363,\n",
       " 'skew': 364,\n",
       " 'notin': 365,\n",
       " 'fboxsep': 366,\n",
       " 'smallint': 367,\n",
       " 'swarrow': 368,\n",
       " 'mathtt': 369,\n",
       " 'vss': 370,\n",
       " 'em': 371,\n",
       " 'rightarrowfill': 372,\n",
       " 'protecte': 373,\n",
       " 'symbol': 374,\n",
       " 'ointop': 375,\n",
       " 'lq': 376,\n",
       " 'verb': 377,\n",
       " 'nolinebreak': 378,\n",
       " 'mathversion': 379,\n",
       " 'footnotemark': 380,\n",
       " 'tabcolsep': 381,\n",
       " 'mathstrut': 382,\n",
       " 'arrowvert': 383,\n",
       " 'atopwithdelims': 384,\n",
       " 'mathnormal': 385,\n",
       " 'mskip': 386,\n",
       " 'cline': 387,\n",
       " 'hss': 388,\n",
       " '25': 389,\n",
       " '20': 390,\n",
       " 'mathaccent': 391,\n",
       " 'brack': 392,\n",
       " 'bigvee': 393,\n",
       " 'def': 394,\n",
       " 'fill': 395,\n",
       " 'newcommand': 396,\n",
       " 'protectz': 397,\n",
       " '10': 398,\n",
       " 'coprod': 399,\n",
       " 'dotfill': 400,\n",
       " 'emph': 401,\n",
       " 'textcircled': 402,\n",
       " 'scshape': 403,\n",
       " 'uppercase': 404,\n",
       " 'expandafter': 405,\n",
       " 'romannumeral': 406,\n",
       " 'protectm': 407,\n",
       " 'everymath': 408,\n",
       " 'root': 409,\n",
       " 'of': 410,\n",
       " 'overwithdelims': 411,\n",
       " 'rceil': 412,\n",
       " 'leavevmode': 413,\n",
       " 'brace': 414,\n",
       " '23': 415,\n",
       " '<PAD>': 415,\n",
       " '<SOS>': 416,\n",
       " '<EOS>': 417}"
      ]
     },
     "execution_count": 26,
     "metadata": {},
     "output_type": "execute_result"
    }
   ],
   "source": [
    "tokenizer.word_index"
   ]
  },
  {
   "cell_type": "code",
   "execution_count": 31,
   "metadata": {},
   "outputs": [
    {
     "data": {
      "text/plain": [
       "array([1, 1, 1, 1, 1, 1, 1, 1, 1, 1, 1, 1, 1, 1, 1, 0, 0, 0, 0, 0, 0, 0,\n",
       "       0, 0, 0, 0, 0, 0, 0, 0, 0, 0, 0, 0, 0, 0, 0, 0, 0, 0, 0, 0, 0, 0,\n",
       "       0, 0, 0, 0, 0, 0, 0, 0, 0, 0, 0, 0, 0, 0, 0, 0, 0, 0, 0, 0, 0, 0,\n",
       "       0, 0, 0, 0, 0, 0, 0, 0, 0, 0, 0, 0, 0, 0, 0, 0, 0, 0, 0, 0, 0, 0,\n",
       "       0, 0, 0, 0, 0, 0, 0, 0, 0, 0, 0, 0, 0, 0, 0, 0, 0, 0, 0, 0, 0, 0,\n",
       "       0, 0, 0, 0, 0, 0, 0, 0, 0, 0, 0, 0, 0, 0, 0, 0, 0, 0, 0, 0, 0, 0,\n",
       "       0, 0, 0, 0, 0, 0, 0, 0, 0, 0, 0, 0, 0, 0, 0, 0, 0, 0], dtype=int32)"
      ]
     },
     "execution_count": 31,
     "metadata": {},
     "output_type": "execute_result"
    }
   ],
   "source": [
    "tokenizer.tokens[]"
   ]
  },
  {
   "cell_type": "code",
   "execution_count": 11,
   "metadata": {},
   "outputs": [
    {
     "data": {
      "text/plain": [
       "array([418, 418, 418, 418, 418, 418, 418, 418, 418, 418, 418, 418, 418,\n",
       "       418, 418, 418, 418, 418, 418, 418, 418, 418, 418, 418, 418, 418,\n",
       "       418, 418, 418, 418, 418, 418, 418, 418, 418, 418, 418, 418, 418,\n",
       "       418, 418, 418,   0,   0,   0,   0,   0,   0,   0,   0,   0,   0,\n",
       "         0,   0,   0,   0,   0,   0,   0,   0,   0,   0,   0,   0,   0,\n",
       "         0,   0,   0,   0,   0,   0,   0,   0,   0,   0,   0,   0,   0,\n",
       "         0,   0,   0,   0,   0,   0,   0,   0,   0,   0,   0,   0,   0,\n",
       "         0,   0,   0,   0,   0,   0,   0,   0,   0,   0,   0,   0,   0,\n",
       "         0,   0,   0,   0,   0,   0,   0,   0,   0,   0,   0,   0,   0,\n",
       "         0,   0,   0,   0,   0,   0,   0,   0,   0,   0,   0,   0,   0,\n",
       "         0,   0,   0,   0,   0,   0,   0,   0,   0,   0,   0,   0,   0,\n",
       "         0,   0,   0,   0,   0,   0,   0], dtype=int32)"
      ]
     },
     "execution_count": 11,
     "metadata": {},
     "output_type": "execute_result"
    }
   ],
   "source": [
    "tokenizer.tokens[0]"
   ]
  },
  {
   "cell_type": "code",
   "execution_count": 22,
   "metadata": {},
   "outputs": [],
   "source": [
    "image_size = (224, 224)\n",
    "batch_size = 32\n",
    "# max_sequence_length = get_max_length(formulas, min_occurrences=100)\n",
    "\n",
    "dataset = BaseDataset(image_dir, image_list_file, label_file, \n",
    "                      image_size=image_size, batch_size=batch_size, max_sequence_length=max_len)"
   ]
  },
  {
   "cell_type": "code",
   "execution_count": 11,
   "metadata": {},
   "outputs": [
    {
     "data": {
      "text/plain": [
       "1"
      ]
     },
     "execution_count": 11,
     "metadata": {},
     "output_type": "execute_result"
    }
   ],
   "source": [
    "len(dataset[0][1])"
   ]
  },
  {
   "cell_type": "code",
   "execution_count": 9,
   "metadata": {},
   "outputs": [
    {
     "data": {
      "text/plain": [
       "(103559, 150)"
      ]
     },
     "execution_count": 9,
     "metadata": {},
     "output_type": "execute_result"
    }
   ],
   "source": [
    "dataset.labels_padded.shape"
   ]
  },
  {
   "cell_type": "code",
   "execution_count": 11,
   "metadata": {},
   "outputs": [
    {
     "data": {
      "text/plain": [
       "12905411"
      ]
     },
     "execution_count": 11,
     "metadata": {},
     "output_type": "execute_result"
    }
   ],
   "source": [
    "(tokenizer.tokens == dataset.labels_padded).sum()"
   ]
  },
  {
   "cell_type": "code",
   "execution_count": 12,
   "metadata": {},
   "outputs": [
    {
     "name": "stderr",
     "output_type": "stream",
     "text": [
      "2024-03-11 16:36:36.243241: E external/local_xla/xla/stream_executor/cuda/cuda_driver.cc:274] failed call to cuInit: UNKNOWN ERROR (100)\n",
      "2024-03-11 16:36:36.246038: W external/local_tsl/tsl/framework/cpu_allocator_impl.cc:83] Allocation of 62135400 exceeds 10% of free system memory.\n",
      "2024-03-11 16:36:36.521545: W external/local_tsl/tsl/framework/cpu_allocator_impl.cc:83] Allocation of 62135400 exceeds 10% of free system memory.\n"
     ]
    },
    {
     "data": {
      "text/plain": [
       "<tf.Tensor: shape=(103559, 150), dtype=bool, numpy=\n",
       "array([[ True,  True,  True, ...,  True,  True,  True],\n",
       "       [ True,  True,  True, ...,  True,  True,  True],\n",
       "       [ True,  True,  True, ...,  True,  True,  True],\n",
       "       ...,\n",
       "       [ True,  True,  True, ...,  True,  True,  True],\n",
       "       [ True,  True,  True, ...,  True,  True,  True],\n",
       "       [ True,  True,  True, ...,  True,  True,  True]])>"
      ]
     },
     "execution_count": 12,
     "metadata": {},
     "output_type": "execute_result"
    }
   ],
   "source": [
    "eq = tf.equal(tokenizer.tokens, dataset.labels_padded)\n",
    "eq"
   ]
  },
  {
   "cell_type": "code",
   "execution_count": 30,
   "metadata": {},
   "outputs": [
    {
     "data": {
      "text/plain": [
       "array([54, 66, 75, 13, 19, 46, 17, 19, 91, 54, 66, 75, 13, 19, 38, 46, 17,\n",
       "       19, 38, 91, 19, 19, 38,  7, 19, 38, 19, 19, 19, 38, 30, 41, 38, 38,\n",
       "       19,  7, 30, 35, 18, 41, 19, 11,  0,  0,  0,  0,  0,  0,  0,  0,  0,\n",
       "        0,  0,  0,  0,  0,  0,  0,  0,  0,  0,  0,  0,  0,  0,  0,  0,  0,\n",
       "        0,  0,  0,  0,  0,  0,  0,  0,  0,  0,  0,  0,  0,  0,  0,  0,  0,\n",
       "        0,  0,  0,  0,  0,  0,  0,  0,  0,  0,  0,  0,  0,  0,  0,  0,  0,\n",
       "        0,  0,  0,  0,  0,  0,  0,  0,  0,  0,  0,  0,  0,  0,  0,  0,  0,\n",
       "        0,  0,  0,  0,  0,  0,  0,  0,  0,  0,  0,  0,  0,  0,  0,  0,  0,\n",
       "        0,  0,  0,  0,  0,  0,  0,  0,  0,  0,  0,  0,  0,  0],\n",
       "      dtype=int32)"
      ]
     },
     "execution_count": 30,
     "metadata": {},
     "output_type": "execute_result"
    }
   ],
   "source": [
    "tokenizer.tokens[0]"
   ]
  },
  {
   "cell_type": "code",
   "execution_count": 11,
   "metadata": {},
   "outputs": [
    {
     "data": {
      "text/plain": [
       "array([51, 63, 72, 10, 16, 43, 14, 16, 88, 51, 63, 72, 10, 16, 35, 43, 14,\n",
       "       16, 35, 88, 16, 16, 35,  4, 16, 35, 16, 16, 16, 35, 27, 38, 35, 35,\n",
       "       16,  4, 27, 32, 15, 38, 16,  8,  0,  0,  0,  0,  0,  0,  0,  0,  0,\n",
       "        0,  0,  0,  0,  0,  0,  0,  0,  0,  0,  0,  0,  0,  0,  0,  0,  0,\n",
       "        0,  0,  0,  0,  0,  0,  0,  0,  0,  0,  0,  0,  0,  0,  0,  0,  0,\n",
       "        0,  0,  0,  0,  0,  0,  0,  0,  0,  0,  0,  0,  0,  0,  0,  0,  0,\n",
       "        0,  0,  0,  0,  0,  0,  0,  0,  0,  0,  0,  0,  0,  0,  0,  0,  0,\n",
       "        0,  0,  0,  0,  0,  0,  0,  0,  0,  0,  0,  0,  0,  0,  0,  0,  0,\n",
       "        0,  0,  0,  0,  0,  0,  0,  0,  0,  0,  0,  0,  0,  0],\n",
       "      dtype=int32)"
      ]
     },
     "execution_count": 11,
     "metadata": {},
     "output_type": "execute_result"
    }
   ],
   "source": [
    "dataset.labels_padded[0]"
   ]
  },
  {
   "cell_type": "code",
   "execution_count": 15,
   "metadata": {},
   "outputs": [
    {
     "data": {
      "text/plain": [
       "array([106,  40,  43,  34,  55,  20,  26, 132,  59,   7,   8, 106,  25,\n",
       "         7,   4,   6,   7,   2,   2,   7,   3,   0,   0,   0,   0,   0,\n",
       "         0,   0,   0,   0,   0,   0,   0,   0,   0,   0,   0,   0,   0,\n",
       "         0,   0,   0,   0,   0,   0,   0,   0,   0,   0,   0,   0,   0,\n",
       "         0,   0,   0,   0,   0,   0,   0,   0,   0,   0,   0,   0,   0,\n",
       "         0,   0,   0,   0,   0,   0,   0,   0,   0,   0,   0,   0,   0,\n",
       "         0,   0,   0,   0,   0,   0,   0,   0,   0,   0,   0,   0,   0,\n",
       "         0,   0,   0,   0,   0,   0,   0,   0,   0,   0,   0,   0,   0,\n",
       "         0,   0,   0,   0,   0,   0,   0,   0,   0,   0,   0,   0,   0,\n",
       "         0,   0,   0,   0,   0,   0,   0,   0,   0,   0,   0,   0,   0,\n",
       "         0,   0,   0,   0,   0,   0,   0,   0,   0,   0,   0,   0,   0,\n",
       "         0,   0,   0,   0,   0,   0,   0], dtype=int32)"
      ]
     },
     "execution_count": 15,
     "metadata": {},
     "output_type": "execute_result"
    }
   ],
   "source": [
    "dataset.labels_padded[2]"
   ]
  },
  {
   "cell_type": "code",
   "execution_count": 16,
   "metadata": {},
   "outputs": [
    {
     "data": {
      "text/plain": [
       "array([18, 18, 15,  6, 15,  2, 36, 58,  7, 68,  3,  7, 68,  2,  7, 68, 27,\n",
       "       21, 58,  7, 58, 50,  7, 22,  0,  0,  0,  0,  0,  0,  0,  0,  0,  0,\n",
       "        0,  0,  0,  0,  0,  0,  0,  0,  0,  0,  0,  0,  0,  0,  0,  0,  0,\n",
       "        0,  0,  0,  0,  0,  0,  0,  0,  0,  0,  0,  0,  0,  0,  0,  0,  0,\n",
       "        0,  0,  0,  0,  0,  0,  0,  0,  0,  0,  0,  0,  0,  0,  0,  0,  0,\n",
       "        0,  0,  0,  0,  0,  0,  0,  0,  0,  0,  0,  0,  0,  0,  0,  0,  0,\n",
       "        0,  0,  0,  0,  0,  0,  0,  0,  0,  0,  0,  0,  0,  0,  0,  0,  0,\n",
       "        0,  0,  0,  0,  0,  0,  0,  0,  0,  0,  0,  0,  0,  0,  0,  0,  0,\n",
       "        0,  0,  0,  0,  0,  0,  0,  0,  0,  0,  0,  0,  0,  0],\n",
       "      dtype=int32)"
      ]
     },
     "execution_count": 16,
     "metadata": {},
     "output_type": "execute_result"
    }
   ],
   "source": [
    "dataset.labels_padded[4]"
   ]
  },
  {
   "cell_type": "code",
   "execution_count": 23,
   "metadata": {},
   "outputs": [
    {
     "data": {
      "text/plain": [
       "(array([[[[1., 1., 1.],\n",
       "          [1., 1., 1.],\n",
       "          [1., 1., 1.],\n",
       "          ...,\n",
       "          [1., 1., 1.],\n",
       "          [1., 1., 1.],\n",
       "          [1., 1., 1.]],\n",
       " \n",
       "         [[1., 1., 1.],\n",
       "          [1., 1., 1.],\n",
       "          [1., 1., 1.],\n",
       "          ...,\n",
       "          [1., 1., 1.],\n",
       "          [1., 1., 1.],\n",
       "          [1., 1., 1.]],\n",
       " \n",
       "         [[1., 1., 1.],\n",
       "          [1., 1., 1.],\n",
       "          [1., 1., 1.],\n",
       "          ...,\n",
       "          [1., 1., 1.],\n",
       "          [1., 1., 1.],\n",
       "          [1., 1., 1.]],\n",
       " \n",
       "         ...,\n",
       " \n",
       "         [[1., 1., 1.],\n",
       "          [1., 1., 1.],\n",
       "          [1., 1., 1.],\n",
       "          ...,\n",
       "          [1., 1., 1.],\n",
       "          [1., 1., 1.],\n",
       "          [1., 1., 1.]],\n",
       " \n",
       "         [[1., 1., 1.],\n",
       "          [1., 1., 1.],\n",
       "          [1., 1., 1.],\n",
       "          ...,\n",
       "          [1., 1., 1.],\n",
       "          [1., 1., 1.],\n",
       "          [1., 1., 1.]],\n",
       " \n",
       "         [[1., 1., 1.],\n",
       "          [1., 1., 1.],\n",
       "          [1., 1., 1.],\n",
       "          ...,\n",
       "          [1., 1., 1.],\n",
       "          [1., 1., 1.],\n",
       "          [1., 1., 1.]]],\n",
       " \n",
       " \n",
       "        [[[1., 1., 1.],\n",
       "          [1., 1., 1.],\n",
       "          [1., 1., 1.],\n",
       "          ...,\n",
       "          [1., 1., 1.],\n",
       "          [1., 1., 1.],\n",
       "          [1., 1., 1.]],\n",
       " \n",
       "         [[1., 1., 1.],\n",
       "          [1., 1., 1.],\n",
       "          [1., 1., 1.],\n",
       "          ...,\n",
       "          [1., 1., 1.],\n",
       "          [1., 1., 1.],\n",
       "          [1., 1., 1.]],\n",
       " \n",
       "         [[1., 1., 1.],\n",
       "          [1., 1., 1.],\n",
       "          [1., 1., 1.],\n",
       "          ...,\n",
       "          [1., 1., 1.],\n",
       "          [1., 1., 1.],\n",
       "          [1., 1., 1.]],\n",
       " \n",
       "         ...,\n",
       " \n",
       "         [[1., 1., 1.],\n",
       "          [1., 1., 1.],\n",
       "          [1., 1., 1.],\n",
       "          ...,\n",
       "          [1., 1., 1.],\n",
       "          [1., 1., 1.],\n",
       "          [1., 1., 1.]],\n",
       " \n",
       "         [[1., 1., 1.],\n",
       "          [1., 1., 1.],\n",
       "          [1., 1., 1.],\n",
       "          ...,\n",
       "          [1., 1., 1.],\n",
       "          [1., 1., 1.],\n",
       "          [1., 1., 1.]],\n",
       " \n",
       "         [[1., 1., 1.],\n",
       "          [1., 1., 1.],\n",
       "          [1., 1., 1.],\n",
       "          ...,\n",
       "          [1., 1., 1.],\n",
       "          [1., 1., 1.],\n",
       "          [1., 1., 1.]]],\n",
       " \n",
       " \n",
       "        [[[1., 1., 1.],\n",
       "          [1., 1., 1.],\n",
       "          [1., 1., 1.],\n",
       "          ...,\n",
       "          [1., 1., 1.],\n",
       "          [1., 1., 1.],\n",
       "          [1., 1., 1.]],\n",
       " \n",
       "         [[1., 1., 1.],\n",
       "          [1., 1., 1.],\n",
       "          [1., 1., 1.],\n",
       "          ...,\n",
       "          [1., 1., 1.],\n",
       "          [1., 1., 1.],\n",
       "          [1., 1., 1.]],\n",
       " \n",
       "         [[1., 1., 1.],\n",
       "          [1., 1., 1.],\n",
       "          [1., 1., 1.],\n",
       "          ...,\n",
       "          [1., 1., 1.],\n",
       "          [1., 1., 1.],\n",
       "          [1., 1., 1.]],\n",
       " \n",
       "         ...,\n",
       " \n",
       "         [[1., 1., 1.],\n",
       "          [1., 1., 1.],\n",
       "          [1., 1., 1.],\n",
       "          ...,\n",
       "          [1., 1., 1.],\n",
       "          [1., 1., 1.],\n",
       "          [1., 1., 1.]],\n",
       " \n",
       "         [[1., 1., 1.],\n",
       "          [1., 1., 1.],\n",
       "          [1., 1., 1.],\n",
       "          ...,\n",
       "          [1., 1., 1.],\n",
       "          [1., 1., 1.],\n",
       "          [1., 1., 1.]],\n",
       " \n",
       "         [[1., 1., 1.],\n",
       "          [1., 1., 1.],\n",
       "          [1., 1., 1.],\n",
       "          ...,\n",
       "          [1., 1., 1.],\n",
       "          [1., 1., 1.],\n",
       "          [1., 1., 1.]]],\n",
       " \n",
       " \n",
       "        ...,\n",
       " \n",
       " \n",
       "        [[[1., 1., 1.],\n",
       "          [1., 1., 1.],\n",
       "          [1., 1., 1.],\n",
       "          ...,\n",
       "          [1., 1., 1.],\n",
       "          [1., 1., 1.],\n",
       "          [1., 1., 1.]],\n",
       " \n",
       "         [[1., 1., 1.],\n",
       "          [1., 1., 1.],\n",
       "          [1., 1., 1.],\n",
       "          ...,\n",
       "          [1., 1., 1.],\n",
       "          [1., 1., 1.],\n",
       "          [1., 1., 1.]],\n",
       " \n",
       "         [[1., 1., 1.],\n",
       "          [1., 1., 1.],\n",
       "          [1., 1., 1.],\n",
       "          ...,\n",
       "          [1., 1., 1.],\n",
       "          [1., 1., 1.],\n",
       "          [1., 1., 1.]],\n",
       " \n",
       "         ...,\n",
       " \n",
       "         [[1., 1., 1.],\n",
       "          [1., 1., 1.],\n",
       "          [1., 1., 1.],\n",
       "          ...,\n",
       "          [1., 1., 1.],\n",
       "          [1., 1., 1.],\n",
       "          [1., 1., 1.]],\n",
       " \n",
       "         [[1., 1., 1.],\n",
       "          [1., 1., 1.],\n",
       "          [1., 1., 1.],\n",
       "          ...,\n",
       "          [1., 1., 1.],\n",
       "          [1., 1., 1.],\n",
       "          [1., 1., 1.]],\n",
       " \n",
       "         [[1., 1., 1.],\n",
       "          [1., 1., 1.],\n",
       "          [1., 1., 1.],\n",
       "          ...,\n",
       "          [1., 1., 1.],\n",
       "          [1., 1., 1.],\n",
       "          [1., 1., 1.]]],\n",
       " \n",
       " \n",
       "        [[[1., 1., 1.],\n",
       "          [1., 1., 1.],\n",
       "          [1., 1., 1.],\n",
       "          ...,\n",
       "          [1., 1., 1.],\n",
       "          [1., 1., 1.],\n",
       "          [1., 1., 1.]],\n",
       " \n",
       "         [[1., 1., 1.],\n",
       "          [1., 1., 1.],\n",
       "          [1., 1., 1.],\n",
       "          ...,\n",
       "          [1., 1., 1.],\n",
       "          [1., 1., 1.],\n",
       "          [1., 1., 1.]],\n",
       " \n",
       "         [[1., 1., 1.],\n",
       "          [1., 1., 1.],\n",
       "          [1., 1., 1.],\n",
       "          ...,\n",
       "          [1., 1., 1.],\n",
       "          [1., 1., 1.],\n",
       "          [1., 1., 1.]],\n",
       " \n",
       "         ...,\n",
       " \n",
       "         [[1., 1., 1.],\n",
       "          [1., 1., 1.],\n",
       "          [1., 1., 1.],\n",
       "          ...,\n",
       "          [1., 1., 1.],\n",
       "          [1., 1., 1.],\n",
       "          [1., 1., 1.]],\n",
       " \n",
       "         [[1., 1., 1.],\n",
       "          [1., 1., 1.],\n",
       "          [1., 1., 1.],\n",
       "          ...,\n",
       "          [1., 1., 1.],\n",
       "          [1., 1., 1.],\n",
       "          [1., 1., 1.]],\n",
       " \n",
       "         [[1., 1., 1.],\n",
       "          [1., 1., 1.],\n",
       "          [1., 1., 1.],\n",
       "          ...,\n",
       "          [1., 1., 1.],\n",
       "          [1., 1., 1.],\n",
       "          [1., 1., 1.]]],\n",
       " \n",
       " \n",
       "        [[[1., 1., 1.],\n",
       "          [1., 1., 1.],\n",
       "          [1., 1., 1.],\n",
       "          ...,\n",
       "          [1., 1., 1.],\n",
       "          [1., 1., 1.],\n",
       "          [1., 1., 1.]],\n",
       " \n",
       "         [[1., 1., 1.],\n",
       "          [1., 1., 1.],\n",
       "          [1., 1., 1.],\n",
       "          ...,\n",
       "          [1., 1., 1.],\n",
       "          [1., 1., 1.],\n",
       "          [1., 1., 1.]],\n",
       " \n",
       "         [[1., 1., 1.],\n",
       "          [1., 1., 1.],\n",
       "          [1., 1., 1.],\n",
       "          ...,\n",
       "          [1., 1., 1.],\n",
       "          [1., 1., 1.],\n",
       "          [1., 1., 1.]],\n",
       " \n",
       "         ...,\n",
       " \n",
       "         [[1., 1., 1.],\n",
       "          [1., 1., 1.],\n",
       "          [1., 1., 1.],\n",
       "          ...,\n",
       "          [1., 1., 1.],\n",
       "          [1., 1., 1.],\n",
       "          [1., 1., 1.]],\n",
       " \n",
       "         [[1., 1., 1.],\n",
       "          [1., 1., 1.],\n",
       "          [1., 1., 1.],\n",
       "          ...,\n",
       "          [1., 1., 1.],\n",
       "          [1., 1., 1.],\n",
       "          [1., 1., 1.]],\n",
       " \n",
       "         [[1., 1., 1.],\n",
       "          [1., 1., 1.],\n",
       "          [1., 1., 1.],\n",
       "          ...,\n",
       "          [1., 1., 1.],\n",
       "          [1., 1., 1.],\n",
       "          [1., 1., 1.]]]], dtype=float32),\n",
       " ['\\\\widetilde \\\\gamma _ { \\\\mathrm { h o p f } } \\\\simeq \\\\sum _ { n > 0 } \\\\widetilde { G } _ { n } { \\\\frac { ( - a ) ^ { n } } { 2 ^ { 2 n - 1 } } }\\n',\n",
       "  '( { \\\\cal L } _ { a } g ) _ { i j } = 0 , \\\\ \\\\ \\\\ \\\\ ( { \\\\cal L } _ { a } H ) _ { i j k } = 0 ,\\n',\n",
       "  'S _ { s t a t } = 2 \\\\pi \\\\sqrt { N _ { 5 } ^ { ( 1 ) } N _ { 5 } ^ { ( 2 ) } N _ { 5 } ^ { ( 3 ) } } \\\\left( \\\\sqrt { n } + \\\\sqrt { \\\\bar { n } } \\\\right)\\n',\n",
       "  '\\\\hat { N } _ { 3 } = \\\\sum \\\\sp f _ { j = 1 } a _ { j } \\\\sp { \\\\dagger } a _ { j } \\\\, .\\n',\n",
       "  '\\\\, ^ { * } d \\\\, ^ { * } H = \\\\kappa \\\\, ^ { * } d \\\\phi = J _ { B } .\\n',\n",
       "  '{ \\\\frac { \\\\phi ^ { \\\\prime \\\\prime } } { A } } + { \\\\frac { 1 } { A } } \\\\left( - { \\\\frac { 1 } { 2 } } { \\\\frac { A ^ { \\\\prime } } { A } } + 2 { \\\\frac { B ^ { \\\\prime } } { B } } + { \\\\frac { 2 } { r } } \\\\right) \\\\phi ^ { \\\\prime } - { \\\\frac { 2 } { r ^ { 2 } } } \\\\phi - \\\\lambda \\\\phi ( \\\\phi ^ { 2 } - \\\\eta ^ { 2 } ) = 0 \\\\, .\\n',\n",
       "  '\\\\partial _ { \\\\mu } ( F ^ { \\\\mu \\\\nu } - e j ^ { \\\\mu } x ^ { \\\\nu } ) = 0 .\\n',\n",
       "  'V _ { n s } ( { \\\\tilde { x } } ) = \\\\left( \\\\frac { { \\\\tilde { m } } N ^ { 2 } } { 1 6 \\\\pi } \\\\right) N g ^ { 2 n s - 1 } { \\\\tilde { x } } ^ { 2 } \\\\left\\\\{ { \\\\tilde { x } } ^ { 2 } - \\\\frac { 2 { \\\\tilde { b } } } { 3 } { \\\\tilde { x } } + \\\\frac { { \\\\tilde { b } } ^ { 2 } } { 3 } - ( - 1 ) ^ { n s } { \\\\tilde { c } } \\\\right\\\\} \\\\, .\\n',\n",
       "  'g _ { i j } ( x ) = { \\\\frac { 1 } { a ^ { 2 } } } \\\\, \\\\delta _ { i j } , ~ ~ \\\\phi ^ { a } ( x ) = \\\\phi ^ { a } , \\\\quad ( a , \\\\phi ^ { a } \\\\! : ~ \\\\mathrm { c o n s t . } )\\n',\n",
       "  '\\\\rho _ { L } ( q ) = \\\\sum _ { m = 1 } ^ { L } \\\\ P _ { L } ( m ) \\\\ { \\\\frac { 1 } { q ^ { m - 1 } } } \\\\ \\\\ .\\n',\n",
       "  'e x p \\\\left( - \\\\frac { \\\\partial } { \\\\partial \\\\alpha _ { j } } \\\\theta ^ { j k } \\\\frac { \\\\partial } { \\\\partial \\\\alpha _ { k } } \\\\right)\\n',\n",
       "  'L _ { 0 } = \\\\Phi ( w ) = \\\\bigtriangleup \\\\Phi ( w ) ,\\n',\n",
       "  '\\\\left( D ^ { * } D ^ { * } + m ^ { 2 } \\\\right) { \\\\cal H } = 0\\n',\n",
       "  '{ \\\\frac { d V } { d \\\\Phi } } = - { \\\\frac { w \\\\Phi } { \\\\Phi _ { \\\\! _ { 0 } } ^ { 2 } } } \\\\, .\\n',\n",
       "  'g ( z , \\\\bar { z } ) = - \\\\frac { 1 } { 2 } \\\\left[ x ( z , \\\\bar { z } ) \\\\, s + x ^ { * } ( z , \\\\bar { z } ) \\\\, s ^ { * } + u ^ { * } ( z , \\\\bar { z } ) \\\\, t + u ( z , \\\\bar { z } ) \\\\, t ^ { * } \\\\right] ,\\n',\n",
       "  'x _ { \\\\mu } ^ { c } = x _ { \\\\mu } + A _ { \\\\mu } .\\n',\n",
       "  's = { \\\\frac { S } { V } } = { \\\\frac { A _ { H } } { l _ { p } ^ { 8 } V } } = { \\\\frac { T ^ { 2 } } { \\\\gamma } } .\\n',\n",
       "  '\\\\psi ( \\\\gamma ) = \\\\operatorname { e x p } { - ( { \\\\textstyle { \\\\frac { g ^ { 2 } } { 2 } } } ) \\\\int _ { \\\\gamma } d y ^ { a } \\\\int _ { \\\\gamma } d y ^ { a ^ { \\\\prime } } D _ { 1 } ( y - y ^ { \\\\prime } ) }\\n',\n",
       "  'E = E _ { 0 } + \\\\frac { 1 } { 2 \\\\operatorname { s i n h } ( \\\\gamma ( 0 ) / 2 ) } \\\\operatorname { s i n h } \\\\left( \\\\gamma ( 0 ) \\\\left( \\\\frac { 1 } { 2 } + c ( 0 ) \\\\right) \\\\right) h c \\\\nu _ { \\\\mathrm { v i b } }\\n',\n",
       "  '\\\\langle T _ { z z } \\\\rangle = - 3 \\\\times \\\\frac { \\\\pi ^ { 2 } } { 1 4 4 0 a ^ { 4 } } .\\n',\n",
       "  '\\\\partial _ { u } \\\\xi _ { z } ^ { ( 1 ) } + { \\\\frac { 1 } { u } } \\\\xi _ { z } ^ { ( 1 ) } = { \\\\frac { 1 } { ( \\\\pi T R ) ^ { 2 } u } } \\\\left[ C _ { z } H _ { z z } ^ { \\\\prime } + C _ { t } H _ { t z } ^ { \\\\prime } \\\\right] \\\\, .\\n',\n",
       "  'S \\\\sim \\\\tilde { \\\\psi } Q _ { o } \\\\tilde { \\\\psi } + g _ { s } ^ { 1 / 2 } \\\\tilde { \\\\psi } ^ { 3 } + \\\\tilde { \\\\phi } Q _ { c } \\\\tilde { \\\\phi } + g _ { s } \\\\tilde { \\\\phi } ^ { 3 } + \\\\tilde { \\\\phi } B ( g _ { s } ^ { 1 / 2 } \\\\tilde { \\\\psi } ) + \\\\cdots .\\n',\n",
       "  'C ( x ^ { \\\\prime } , x ^ { \\\\prime \\\\prime } ) = C \\\\Phi ( x ^ { \\\\prime } , x ^ { \\\\prime \\\\prime } ) \\\\ , \\\\quad \\\\Phi ( x ^ { \\\\prime } , x ^ { \\\\prime \\\\prime } ) = \\\\operatorname { e x p } \\\\left[ - i e \\\\int _ { x ^ { \\\\prime \\\\prime } } ^ { x ^ { \\\\prime } } d x ^ { \\\\mu } A _ { \\\\mu } ( x ) \\\\right] \\\\ ,\\n',\n",
       "  '\\\\tilde { \\\\alpha } = \\\\alpha \\\\beta ^ { - m } = \\\\left( \\\\begin{array} { c c c } { \\\\omega _ { k } ^ { - 2 y } \\\\omega _ { 2 d } ^ { 2 m } } & { 0 } & { 0 } \\\\\\\\ { 0 } & { \\\\omega _ { k } ^ { y } \\\\omega _ { 2 d } ^ { - m } } & { 0 } \\\\\\\\ { 0 } & { 0 } & { \\\\omega _ { k } ^ { y } \\\\omega _ { 2 d } ^ { - m } } \\\\\\\\ \\\\end{array} \\\\right)\\n',\n",
       "  'd s ^ { 2 } = H ^ { - 2 } f ( r ) d t ^ { 2 } + H ^ { 2 / ( n - 1 ) } ( f ( r ) ^ { - 1 } d r ^ { 2 } + r ^ { 2 } d \\\\Omega _ { n } ^ { 2 } ) ,\\n',\n",
       "  'y ^ { 2 } = \\\\rho \\\\; \\\\operatorname { c o s h } \\\\beta \\\\; \\\\operatorname { s i n } \\\\theta \\\\; \\\\operatorname { s i n } \\\\phi \\\\qquad \\\\qquad y ^ { 3 } = \\\\rho \\\\; \\\\operatorname { c o s } \\\\theta\\n',\n",
       "  'e ^ { A } = e ^ { A _ { 0 } } \\\\left( t _ { 0 } - \\\\mathrm { s i g n } ( m ) t \\\\right) ^ { - \\\\frac { m } { 2 } } \\\\; , \\\\; \\\\; \\\\; \\\\; \\\\chi = \\\\chi _ { 0 } \\\\left( t _ { 0 } - \\\\mathrm { s i g n } ( m ) t \\\\right) ^ { m } \\\\; ,\\n',\n",
       "  '\\\\gamma _ { j } { \\\\cal P } _ { j i } = \\\\frac { 4 } { 3 } \\\\{ [ A d \\\\, T ] [ t _ { 8 } ^ { c } , [ t _ { 8 } ^ { c } , { \\\\gamma } _ { j } ] ] [ A d \\\\, T ^ { - 1 } ] \\\\} { A d \\\\, { \\\\hat { g } } } _ { i j } .\\n',\n",
       "  'K _ { \\\\mu \\\\nu } ~ = ~ \\\\frac { 1 } { 2 } \\\\dot { g } _ { \\\\mu \\\\nu } .\\n',\n",
       "  'X ( u ) = { \\\\frac { \\\\left( \\\\pm i + e ^ { 3 \\\\eta } \\\\right) \\\\left( - 1 + { e ^ { u } } \\\\right) \\\\left( 1 + { e ^ { u } } \\\\right) x _ { 1 } } { 2 { e ^ { u } } \\\\left( \\\\pm i + { e ^ { 3 \\\\eta + u } } \\\\right) } } ,\\n',\n",
       "  '\\\\beta ( g ) \\\\frac { \\\\partial } { \\\\partial g } = 2 g \\\\beta ( g ) \\\\frac { \\\\partial } { \\\\partial g ^ { 2 } }\\n',\n",
       "  'A = a r ^ { \\\\beta } , \\\\quad B = b r ^ { \\\\beta + 2 } ; \\\\qquad a / b = c ( \\\\beta + 2 ) / ( \\\\beta - 2 ) ,\\n'])"
      ]
     },
     "execution_count": 23,
     "metadata": {},
     "output_type": "execute_result"
    }
   ],
   "source": [
    "dataset[0]"
   ]
  },
  {
   "cell_type": "code",
   "execution_count": 24,
   "metadata": {},
   "outputs": [
    {
     "data": {
      "text/plain": [
       "['\\\\widetilde \\\\gamma _ { \\\\mathrm { h o p f } } \\\\simeq \\\\sum _ { n > 0 } \\\\widetilde { G } _ { n } { \\\\frac { ( - a ) ^ { n } } { 2 ^ { 2 n - 1 } } }\\n',\n",
       " '( { \\\\cal L } _ { a } g ) _ { i j } = 0 , \\\\ \\\\ \\\\ \\\\ ( { \\\\cal L } _ { a } H ) _ { i j k } = 0 ,\\n',\n",
       " 'S _ { s t a t } = 2 \\\\pi \\\\sqrt { N _ { 5 } ^ { ( 1 ) } N _ { 5 } ^ { ( 2 ) } N _ { 5 } ^ { ( 3 ) } } \\\\left( \\\\sqrt { n } + \\\\sqrt { \\\\bar { n } } \\\\right)\\n',\n",
       " '\\\\hat { N } _ { 3 } = \\\\sum \\\\sp f _ { j = 1 } a _ { j } \\\\sp { \\\\dagger } a _ { j } \\\\, .\\n',\n",
       " '\\\\, ^ { * } d \\\\, ^ { * } H = \\\\kappa \\\\, ^ { * } d \\\\phi = J _ { B } .\\n',\n",
       " '{ \\\\frac { \\\\phi ^ { \\\\prime \\\\prime } } { A } } + { \\\\frac { 1 } { A } } \\\\left( - { \\\\frac { 1 } { 2 } } { \\\\frac { A ^ { \\\\prime } } { A } } + 2 { \\\\frac { B ^ { \\\\prime } } { B } } + { \\\\frac { 2 } { r } } \\\\right) \\\\phi ^ { \\\\prime } - { \\\\frac { 2 } { r ^ { 2 } } } \\\\phi - \\\\lambda \\\\phi ( \\\\phi ^ { 2 } - \\\\eta ^ { 2 } ) = 0 \\\\, .\\n',\n",
       " '\\\\partial _ { \\\\mu } ( F ^ { \\\\mu \\\\nu } - e j ^ { \\\\mu } x ^ { \\\\nu } ) = 0 .\\n',\n",
       " 'V _ { n s } ( { \\\\tilde { x } } ) = \\\\left( \\\\frac { { \\\\tilde { m } } N ^ { 2 } } { 1 6 \\\\pi } \\\\right) N g ^ { 2 n s - 1 } { \\\\tilde { x } } ^ { 2 } \\\\left\\\\{ { \\\\tilde { x } } ^ { 2 } - \\\\frac { 2 { \\\\tilde { b } } } { 3 } { \\\\tilde { x } } + \\\\frac { { \\\\tilde { b } } ^ { 2 } } { 3 } - ( - 1 ) ^ { n s } { \\\\tilde { c } } \\\\right\\\\} \\\\, .\\n',\n",
       " 'g _ { i j } ( x ) = { \\\\frac { 1 } { a ^ { 2 } } } \\\\, \\\\delta _ { i j } , ~ ~ \\\\phi ^ { a } ( x ) = \\\\phi ^ { a } , \\\\quad ( a , \\\\phi ^ { a } \\\\! : ~ \\\\mathrm { c o n s t . } )\\n',\n",
       " '\\\\rho _ { L } ( q ) = \\\\sum _ { m = 1 } ^ { L } \\\\ P _ { L } ( m ) \\\\ { \\\\frac { 1 } { q ^ { m - 1 } } } \\\\ \\\\ .\\n',\n",
       " 'e x p \\\\left( - \\\\frac { \\\\partial } { \\\\partial \\\\alpha _ { j } } \\\\theta ^ { j k } \\\\frac { \\\\partial } { \\\\partial \\\\alpha _ { k } } \\\\right)\\n',\n",
       " 'L _ { 0 } = \\\\Phi ( w ) = \\\\bigtriangleup \\\\Phi ( w ) ,\\n',\n",
       " '\\\\left( D ^ { * } D ^ { * } + m ^ { 2 } \\\\right) { \\\\cal H } = 0\\n',\n",
       " '{ \\\\frac { d V } { d \\\\Phi } } = - { \\\\frac { w \\\\Phi } { \\\\Phi _ { \\\\! _ { 0 } } ^ { 2 } } } \\\\, .\\n',\n",
       " 'g ( z , \\\\bar { z } ) = - \\\\frac { 1 } { 2 } \\\\left[ x ( z , \\\\bar { z } ) \\\\, s + x ^ { * } ( z , \\\\bar { z } ) \\\\, s ^ { * } + u ^ { * } ( z , \\\\bar { z } ) \\\\, t + u ( z , \\\\bar { z } ) \\\\, t ^ { * } \\\\right] ,\\n',\n",
       " 'x _ { \\\\mu } ^ { c } = x _ { \\\\mu } + A _ { \\\\mu } .\\n',\n",
       " 's = { \\\\frac { S } { V } } = { \\\\frac { A _ { H } } { l _ { p } ^ { 8 } V } } = { \\\\frac { T ^ { 2 } } { \\\\gamma } } .\\n',\n",
       " '\\\\psi ( \\\\gamma ) = \\\\operatorname { e x p } { - ( { \\\\textstyle { \\\\frac { g ^ { 2 } } { 2 } } } ) \\\\int _ { \\\\gamma } d y ^ { a } \\\\int _ { \\\\gamma } d y ^ { a ^ { \\\\prime } } D _ { 1 } ( y - y ^ { \\\\prime } ) }\\n',\n",
       " 'E = E _ { 0 } + \\\\frac { 1 } { 2 \\\\operatorname { s i n h } ( \\\\gamma ( 0 ) / 2 ) } \\\\operatorname { s i n h } \\\\left( \\\\gamma ( 0 ) \\\\left( \\\\frac { 1 } { 2 } + c ( 0 ) \\\\right) \\\\right) h c \\\\nu _ { \\\\mathrm { v i b } }\\n',\n",
       " '\\\\langle T _ { z z } \\\\rangle = - 3 \\\\times \\\\frac { \\\\pi ^ { 2 } } { 1 4 4 0 a ^ { 4 } } .\\n',\n",
       " '\\\\partial _ { u } \\\\xi _ { z } ^ { ( 1 ) } + { \\\\frac { 1 } { u } } \\\\xi _ { z } ^ { ( 1 ) } = { \\\\frac { 1 } { ( \\\\pi T R ) ^ { 2 } u } } \\\\left[ C _ { z } H _ { z z } ^ { \\\\prime } + C _ { t } H _ { t z } ^ { \\\\prime } \\\\right] \\\\, .\\n',\n",
       " 'S \\\\sim \\\\tilde { \\\\psi } Q _ { o } \\\\tilde { \\\\psi } + g _ { s } ^ { 1 / 2 } \\\\tilde { \\\\psi } ^ { 3 } + \\\\tilde { \\\\phi } Q _ { c } \\\\tilde { \\\\phi } + g _ { s } \\\\tilde { \\\\phi } ^ { 3 } + \\\\tilde { \\\\phi } B ( g _ { s } ^ { 1 / 2 } \\\\tilde { \\\\psi } ) + \\\\cdots .\\n',\n",
       " 'C ( x ^ { \\\\prime } , x ^ { \\\\prime \\\\prime } ) = C \\\\Phi ( x ^ { \\\\prime } , x ^ { \\\\prime \\\\prime } ) \\\\ , \\\\quad \\\\Phi ( x ^ { \\\\prime } , x ^ { \\\\prime \\\\prime } ) = \\\\operatorname { e x p } \\\\left[ - i e \\\\int _ { x ^ { \\\\prime \\\\prime } } ^ { x ^ { \\\\prime } } d x ^ { \\\\mu } A _ { \\\\mu } ( x ) \\\\right] \\\\ ,\\n',\n",
       " '\\\\tilde { \\\\alpha } = \\\\alpha \\\\beta ^ { - m } = \\\\left( \\\\begin{array} { c c c } { \\\\omega _ { k } ^ { - 2 y } \\\\omega _ { 2 d } ^ { 2 m } } & { 0 } & { 0 } \\\\\\\\ { 0 } & { \\\\omega _ { k } ^ { y } \\\\omega _ { 2 d } ^ { - m } } & { 0 } \\\\\\\\ { 0 } & { 0 } & { \\\\omega _ { k } ^ { y } \\\\omega _ { 2 d } ^ { - m } } \\\\\\\\ \\\\end{array} \\\\right)\\n',\n",
       " 'd s ^ { 2 } = H ^ { - 2 } f ( r ) d t ^ { 2 } + H ^ { 2 / ( n - 1 ) } ( f ( r ) ^ { - 1 } d r ^ { 2 } + r ^ { 2 } d \\\\Omega _ { n } ^ { 2 } ) ,\\n',\n",
       " 'y ^ { 2 } = \\\\rho \\\\; \\\\operatorname { c o s h } \\\\beta \\\\; \\\\operatorname { s i n } \\\\theta \\\\; \\\\operatorname { s i n } \\\\phi \\\\qquad \\\\qquad y ^ { 3 } = \\\\rho \\\\; \\\\operatorname { c o s } \\\\theta\\n',\n",
       " 'e ^ { A } = e ^ { A _ { 0 } } \\\\left( t _ { 0 } - \\\\mathrm { s i g n } ( m ) t \\\\right) ^ { - \\\\frac { m } { 2 } } \\\\; , \\\\; \\\\; \\\\; \\\\; \\\\chi = \\\\chi _ { 0 } \\\\left( t _ { 0 } - \\\\mathrm { s i g n } ( m ) t \\\\right) ^ { m } \\\\; ,\\n',\n",
       " '\\\\gamma _ { j } { \\\\cal P } _ { j i } = \\\\frac { 4 } { 3 } \\\\{ [ A d \\\\, T ] [ t _ { 8 } ^ { c } , [ t _ { 8 } ^ { c } , { \\\\gamma } _ { j } ] ] [ A d \\\\, T ^ { - 1 } ] \\\\} { A d \\\\, { \\\\hat { g } } } _ { i j } .\\n',\n",
       " 'K _ { \\\\mu \\\\nu } ~ = ~ \\\\frac { 1 } { 2 } \\\\dot { g } _ { \\\\mu \\\\nu } .\\n',\n",
       " 'X ( u ) = { \\\\frac { \\\\left( \\\\pm i + e ^ { 3 \\\\eta } \\\\right) \\\\left( - 1 + { e ^ { u } } \\\\right) \\\\left( 1 + { e ^ { u } } \\\\right) x _ { 1 } } { 2 { e ^ { u } } \\\\left( \\\\pm i + { e ^ { 3 \\\\eta + u } } \\\\right) } } ,\\n',\n",
       " '\\\\beta ( g ) \\\\frac { \\\\partial } { \\\\partial g } = 2 g \\\\beta ( g ) \\\\frac { \\\\partial } { \\\\partial g ^ { 2 } }\\n',\n",
       " 'A = a r ^ { \\\\beta } , \\\\quad B = b r ^ { \\\\beta + 2 } ; \\\\qquad a / b = c ( \\\\beta + 2 ) / ( \\\\beta - 2 ) ,\\n']"
      ]
     },
     "execution_count": 24,
     "metadata": {},
     "output_type": "execute_result"
    }
   ],
   "source": [
    "dataset[0][1]"
   ]
  },
  {
   "cell_type": "code",
   "execution_count": 30,
   "metadata": {},
   "outputs": [
    {
     "data": {
      "text/plain": [
       "array([[  1,   0,   0,   0,   0,   0,   0,   0,   0,   0,   0,   0,   0,\n",
       "          0,   0,   0,   0,   0,   0,   0,   0,   0,   0,   0,   0,   0,\n",
       "          0,   0,   0,   0,   0,   0,   0,   0,   0,   0,   0,   0,   0,\n",
       "          0,   0,   0,   0,   0,   0,   0,   0,   0,   0,   0,   0,   0,\n",
       "          0,   0,   0,   0,   0,   0,   0,   0,   0,   0,   0,   0,   0,\n",
       "          0,   0,   0,   0,   0,   0,   0,   0,   0,   0,   0,   0,   0,\n",
       "          0,   0,   0,   0,   0,   0,   0,   0,   0,   0,   0,   0,   0,\n",
       "          0,   0,   0,   0,   0,   0,   0,   0,   0,   0,   0,   0,   0,\n",
       "          0,   0,   0,   0,   0,   0,   0,   0,   0,   0,   0,   0,   0,\n",
       "          0,   0,   0,   0,   0,   0,   0,   0,   0,   0,   0,   0,   0,\n",
       "          0,   0,   0,   0,   0,   0,   0,   0,   0,   0,   0,   0,   0,\n",
       "          0,   0,   0,   0,   0,   0,   0],\n",
       "       [109,  43,  46,  37,  58,  23,  29, 135,  62,  10,  11, 109,  28,\n",
       "         10,   7,   9,  10,   5,   5,  10,   6,   0,   0,   0,   0,   0,\n",
       "          0,   0,   0,   0,   0,   0,   0,   0,   0,   0,   0,   0,   0,\n",
       "          0,   0,   0,   0,   0,   0,   0,   0,   0,   0,   0,   0,   0,\n",
       "          0,   0,   0,   0,   0,   0,   0,   0,   0,   0,   0,   0,   0,\n",
       "          0,   0,   0,   0,   0,   0,   0,   0,   0,   0,   0,   0,   0,\n",
       "          0,   0,   0,   0,   0,   0,   0,   0,   0,   0,   0,   0,   0,\n",
       "          0,   0,   0,   0,   0,   0,   0,   0,   0,   0,   0,   0,   0,\n",
       "          0,   0,   0,   0,   0,   0,   0,   0,   0,   0,   0,   0,   0,\n",
       "          0,   0,   0,   0,   0,   0,   0,   0,   0,   0,   0,   0,   0,\n",
       "          0,   0,   0,   0,   0,   0,   0,   0,   0,   0,   0,   0,   0,\n",
       "          0,   0,   0,   0,   0,   0,   0],\n",
       "       [  2,   0,   0,   0,   0,   0,   0,   0,   0,   0,   0,   0,   0,\n",
       "          0,   0,   0,   0,   0,   0,   0,   0,   0,   0,   0,   0,   0,\n",
       "          0,   0,   0,   0,   0,   0,   0,   0,   0,   0,   0,   0,   0,\n",
       "          0,   0,   0,   0,   0,   0,   0,   0,   0,   0,   0,   0,   0,\n",
       "          0,   0,   0,   0,   0,   0,   0,   0,   0,   0,   0,   0,   0,\n",
       "          0,   0,   0,   0,   0,   0,   0,   0,   0,   0,   0,   0,   0,\n",
       "          0,   0,   0,   0,   0,   0,   0,   0,   0,   0,   0,   0,   0,\n",
       "          0,   0,   0,   0,   0,   0,   0,   0,   0,   0,   0,   0,   0,\n",
       "          0,   0,   0,   0,   0,   0,   0,   0,   0,   0,   0,   0,   0,\n",
       "          0,   0,   0,   0,   0,   0,   0,   0,   0,   0,   0,   0,   0,\n",
       "          0,   0,   0,   0,   0,   0,   0,   0,   0,   0,   0,   0,   0,\n",
       "          0,   0,   0,   0,   0,   0,   0]], dtype=int32)"
      ]
     },
     "execution_count": 30,
     "metadata": {},
     "output_type": "execute_result"
    }
   ],
   "source": [
    "tokenizer.caption_to_tokens(dataset[0][1][0])"
   ]
  },
  {
   "cell_type": "code",
   "execution_count": 31,
   "metadata": {},
   "outputs": [
    {
     "data": {
      "text/plain": [
       "'\\\\widetilde \\\\gamma _ { \\\\mathrm { h o p f } } \\\\simeq \\\\sum _ { n > 0 } \\\\widetilde { G } _ { n } { \\\\frac { ( - a ) ^ { n } } { 2 ^ { 2 n - 1 } } }\\n'"
      ]
     },
     "execution_count": 31,
     "metadata": {},
     "output_type": "execute_result"
    }
   ],
   "source": [
    "dataset[0][1][0]"
   ]
  },
  {
   "cell_type": "code",
   "execution_count": 32,
   "metadata": {},
   "outputs": [
    {
     "data": {
      "text/plain": [
       "'underline mathrm y lambda sqrt j partial circ tau d m underline alpha d n x d i i d a <UNK> <UNK> <UNK> <UNK> <UNK> <UNK> <UNK> <UNK> <UNK> <UNK> <UNK> <UNK> <UNK> <UNK> <UNK> <UNK> <UNK> <UNK> <UNK> <UNK> <UNK> <UNK> <UNK> <UNK> <UNK> <UNK> <UNK> <UNK> <UNK> <UNK> <UNK> <UNK> <UNK> <UNK> <UNK> <UNK> <UNK> <UNK> <UNK> <UNK> <UNK> <UNK> <UNK> <UNK> <UNK> <UNK> <UNK> <UNK> <UNK> <UNK> <UNK> <UNK> <UNK> <UNK> <UNK> <UNK> <UNK> <UNK> <UNK> <UNK> <UNK> <UNK> <UNK> <UNK> <UNK> <UNK> <UNK> <UNK> <UNK> <UNK> <UNK> <UNK> <UNK> <UNK> <UNK> <UNK> <UNK> <UNK> <UNK> <UNK> <UNK> <UNK> <UNK> <UNK> <UNK> <UNK> <UNK> <UNK> <UNK> <UNK> <UNK> <UNK> <UNK> <UNK> <UNK> <UNK> <UNK> <UNK> <UNK> <UNK> <UNK> <UNK> <UNK> <UNK> <UNK> <UNK> <UNK> <UNK> <UNK> <UNK> <UNK> <UNK> <UNK> <UNK> <UNK> <UNK> <UNK> <UNK> <UNK> <UNK> <UNK> <UNK> <UNK> <UNK> <UNK> <UNK> <UNK> <UNK> <UNK>'"
      ]
     },
     "execution_count": 32,
     "metadata": {},
     "output_type": "execute_result"
    }
   ],
   "source": [
    "tokenizer.tokens_to_caption(tokenizer.caption_to_tokens(dataset[0][1][0]))"
   ]
  }
 ],
 "metadata": {
  "kernelspec": {
   "display_name": "myenv",
   "language": "python",
   "name": "python3"
  },
  "language_info": {
   "codemirror_mode": {
    "name": "ipython",
    "version": 3
   },
   "file_extension": ".py",
   "mimetype": "text/x-python",
   "name": "python",
   "nbconvert_exporter": "python",
   "pygments_lexer": "ipython3",
   "version": "3.10.12"
  },
  "orig_nbformat": 4
 },
 "nbformat": 4,
 "nbformat_minor": 2
}
