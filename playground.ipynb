{
 "cells": [
  {
   "cell_type": "code",
   "execution_count": 5,
   "metadata": {},
   "outputs": [
    {
     "name": "stdout",
     "output_type": "stream",
     "text": [
      "The autoreload extension is already loaded. To reload it, use:\n",
      "  %reload_ext autoreload\n"
     ]
    }
   ],
   "source": [
    "# magic command for reload \n",
    "%load_ext autoreload\n",
    "%autoreload 2\n",
    "\n",
    "import numpy as np\n",
    "import torch\n",
    "\n",
    "from src.data.utils import get_formulas, get_max_length, get_formula_length_histogram\n",
    "from src.data.dataset import get_dataloader, BaseDataset, TrainDataset, Tokenizer\n",
    "from src.model.transformer2 import ResNetTransformer"
   ]
  },
  {
   "cell_type": "code",
   "execution_count": 6,
   "metadata": {},
   "outputs": [],
   "source": [
    "# Example usage:\n",
    "image_dir = 'dataset/formula_images_processed/'\n",
    "image_list_file = 'dataset/im2latex_train_filter.lst'\n",
    "label_file = 'dataset/im2latex_formulas.norm.lst'\n",
    "# label_file = 'dataset/im2latex_formulas.tok.lst'"
   ]
  },
  {
   "cell_type": "code",
   "execution_count": 3,
   "metadata": {},
   "outputs": [],
   "source": [
    "# get all formulas\n",
    "formulas = get_formulas(label_file)\n",
    "\n",
    "# # get max length of formulas\n",
    "# max_len = get_max_length(formulas)\n",
    "\n",
    "# get a histogram of formula lengths\n",
    "hist = get_formula_length_histogram(formulas)\n",
    "\n",
    "# set max_len to where formula occurs at least 100 times using histogram\n",
    "max_len = get_max_length(formulas, min_occurrences=100)\n",
    "\n",
    "# tokenizer = TokenizerWrap(formulas, max_len, reverse=True)"
   ]
  },
  {
   "cell_type": "code",
   "execution_count": 7,
   "metadata": {},
   "outputs": [],
   "source": [
    "tokenizer1 = Tokenizer(formulas)\n",
    "# tokenizer2 = Tokenizer2()\n",
    "# tokenizer2.train(formulas)"
   ]
  },
  {
   "cell_type": "code",
   "execution_count": 8,
   "metadata": {},
   "outputs": [
    {
     "data": {
      "text/plain": [
       "538"
      ]
     },
     "execution_count": 8,
     "metadata": {},
     "output_type": "execute_result"
    }
   ],
   "source": [
    "len(tokenizer1)"
   ]
  },
  {
   "cell_type": "code",
   "execution_count": 37,
   "metadata": {},
   "outputs": [
    {
     "data": {
      "text/plain": [
       "(595, 98, 3)"
      ]
     },
     "execution_count": 37,
     "metadata": {},
     "output_type": "execute_result"
    }
   ],
   "source": [
    "len(tokenizer1), len(tokenizer2), tokenizer1.vocab.get_default_index()"
   ]
  },
  {
   "cell_type": "code",
   "execution_count": null,
   "metadata": {},
   "outputs": [],
   "source": [
    "tokenizer1.decode(tokenizer1.encode(formulas[0]))"
   ]
  },
  {
   "cell_type": "code",
   "execution_count": null,
   "metadata": {},
   "outputs": [],
   "source": [
    "tokenizer1.decode(tokenizer1.encode(formulas[18]))\n",
    "# tokenizer2.decode(tokenizer2.encode(formulas[0]))"
   ]
  },
  {
   "cell_type": "code",
   "execution_count": 18,
   "metadata": {},
   "outputs": [],
   "source": [
    "dataset_root = 'dataset'\n",
    "images_folder = 'formula_images_processed'\n",
    "label_file = 'im2latex_formulas.norm.lst'\n",
    "data_train_filter = 'im2latex_train_filter.lst'\n",
    "\n",
    "dataset = BaseDataset(dataset_root, images_folder, label_file, data_train_filter)\n"
   ]
  },
  {
   "cell_type": "code",
   "execution_count": 25,
   "metadata": {},
   "outputs": [
    {
     "data": {
      "text/plain": [
       "500"
      ]
     },
     "execution_count": 25,
     "metadata": {},
     "output_type": "execute_result"
    }
   ],
   "source": [
    "len(dataset.tokenizer)"
   ]
  },
  {
   "cell_type": "code",
   "execution_count": 89,
   "metadata": {},
   "outputs": [
    {
     "name": "stderr",
     "output_type": "stream",
     "text": [
      "/home/masoud/workspace/math2latex/venv/lib/python3.10/site-packages/torchvision/models/_utils.py:208: UserWarning: The parameter 'pretrained' is deprecated since 0.13 and may be removed in the future, please use 'weights' instead.\n",
      "  warnings.warn(\n",
      "/home/masoud/workspace/math2latex/venv/lib/python3.10/site-packages/torchvision/models/_utils.py:223: UserWarning: Arguments other than a weight enum or `None` for 'weights' are deprecated since 0.13 and may be removed in the future. The current behavior is equivalent to passing `weights=ResNet18_Weights.IMAGENET1K_V1`. You can also use `weights=ResNet18_Weights.DEFAULT` to get the most up-to-date weights.\n",
      "  warnings.warn(msg)\n"
     ]
    }
   ],
   "source": [
    "import torchvision\n",
    "resnet = torchvision.models.resnet18(pretrained=True)"
   ]
  },
  {
   "cell_type": "code",
   "execution_count": 104,
   "metadata": {},
   "outputs": [
    {
     "name": "stdout",
     "output_type": "stream",
     "text": [
      "(160, 64) \\widetilde \\gamma _ { \\mathrm { h o p f } } \\simeq \\sum _ { n > 0 } \\widetilde { G } _ { n } { \\frac { ( - a ) ^ { n } } { 2 ^ { 2 n - 1 } } }\n"
     ]
    }
   ],
   "source": [
    "for data in dataset:\n",
    "    print(data[0].size, data[1])\n",
    "    break"
   ]
  },
  {
   "cell_type": "code",
   "execution_count": 120,
   "metadata": {},
   "outputs": [
    {
     "data": {
      "image/png": "[encoded data removed]",
      "text/plain": [
       "<Figure size 640x480 with 1 Axes>"
      ]
     },
     "metadata": {},
     "output_type": "display_data"
    },
    {
     "name": "stdout",
     "output_type": "stream",
     "text": [
      "Max height: 480\n",
      "Max width: 160\n",
      "Min height: 128\n",
      "Min width: 32\n"
     ]
    }
   ],
   "source": [
    "import matplotlib.pyplot as plt\n",
    "\n",
    "heights = []\n",
    "widths = []\n",
    "\n",
    "for data in dataset:\n",
    "    h, w = data[0].size\n",
    "    heights.append(h)\n",
    "    widths.append(w)\n",
    "\n",
    "max_height = max(heights)\n",
    "max_width = max(widths)\n",
    "\n",
    "plt.hist(heights, bins=20, alpha=0.5, label='Height')\n",
    "plt.hist(widths, bins=20, alpha=0.5, label='Width')\n",
    "plt.legend(loc='upper right')\n",
    "plt.show()\n",
    "\n",
    "print(f\"Max height: {max_height}\")\n",
    "print(f\"Max width: {max_width}\")\n",
    "\n",
    "print(f\"Min height: {min(heights)}\")\n",
    "print(f\"Min width: {min(widths)}\")"
   ]
  },
  {
   "cell_type": "code",
   "execution_count": 134,
   "metadata": {},
   "outputs": [
    {
     "data": {
      "text/plain": [
       "(224, 32)"
      ]
     },
     "execution_count": 134,
     "metadata": {},
     "output_type": "execute_result"
    }
   ],
   "source": [
    "dataset[1][0].size"
   ]
  },
  {
   "cell_type": "code",
   "execution_count": 6,
   "metadata": {},
   "outputs": [],
   "source": [
    "from src.model.transformer2 import ResNetTransformer"
   ]
  },
  {
   "cell_type": "code",
   "execution_count": 10,
   "metadata": {},
   "outputs": [],
   "source": [
    "# model = ResNetTransformer(d_model=128,\n",
    "#                           num_heads=4,\n",
    "#                           num_encoder_layers=2,\n",
    "#                           num_decoder_layers=3,\n",
    "#                           dim_feedforward=256,\n",
    "#                           dropout=0.2)\n",
    "\n",
    "model = ResNetTransformer(d_model=128,\n",
    "        dim_feedforward=256,\n",
    "        num_heads=4,\n",
    "        dropout=0.2,\n",
    "        num_decoder_layers=3,\n",
    "        max_output_len=150,\n",
    "        sos_index=1,\n",
    "        eos_index=2,\n",
    "        pad_index=0,\n",
    "        num_classes=500)"
   ]
  },
  {
   "cell_type": "code",
   "execution_count": 75,
   "metadata": {},
   "outputs": [
    {
     "name": "stdout",
     "output_type": "stream",
     "text": [
      "torch.Size([2, 3, 64, 384]) torch.Size([2, 150])\n"
     ]
    },
    {
     "data": {
      "text/plain": [
       "500"
      ]
     },
     "execution_count": 75,
     "metadata": {},
     "output_type": "execute_result"
    }
   ],
   "source": [
    "dataset_root = 'dataset'\n",
    "images_folder = 'formula_images_processed'\n",
    "label_file = 'im2latex_formulas.norm.lst'\n",
    "# label_file = 'im2latex_formulas.tok.lst'\n",
    "data_train_filter = 'im2latex_train_filter.lst'\n",
    "\n",
    "dataset = TrainDataset(dataset_root, images_folder, label_file, data_train_filter)\n",
    "\n",
    "dl = get_dataloader(dataset, batch_size=2, num_workers=0)\n",
    "for i, data in enumerate(dl):\n",
    "    print(data[0].shape, data[1].shape)\n",
    "    break\n",
    "len(dataset.tokenizer)"
   ]
  },
  {
   "cell_type": "code",
   "execution_count": 61,
   "metadata": {},
   "outputs": [
    {
     "data": {
      "text/plain": [
       "{'\\\\mskip': 496,\n",
       " '0.1': 490,\n",
       " '\\\\amalg': 489,\n",
       " '\\\\sqcap': 488,\n",
       " '\\\\AA': 486,\n",
       " '\\\\arrowvert': 485,\n",
       " '\\\\rgroup': 484,\n",
       " '\\\\lgroup': 483,\n",
       " '\\\\special': 481,\n",
       " '\\\\ensuremath': 480,\n",
       " '\\\\null': 479,\n",
       " '\\\\mathversion': 477,\n",
       " '\\\\ddagger': 469,\n",
       " '\\\\skew': 468,\n",
       " '\\\\mathrel': 487,\n",
       " '\\\\sqcup': 466,\n",
       " '\\\\top': 461,\n",
       " '\\\\hfil': 458,\n",
       " '\\\\multicolumn': 450,\n",
       " '\\\\prec': 447,\n",
       " '\\\\unboldmath': 444,\n",
       " '\\\\Downarrow': 493,\n",
       " '\\\\notin': 470,\n",
       " '\\\\smile': 441,\n",
       " '\\\\arraystretch': 440,\n",
       " '\\\\strut': 437,\n",
       " '\\\\surd': 435,\n",
       " '\\\\smash': 433,\n",
       " '\\\\natural': 432,\n",
       " '\\\\multiput': 462,\n",
       " '\\\\exists': 431,\n",
       " '\\\\bigwedge': 430,\n",
       " '\\\\hookrightarrow': 429,\n",
       " '\\\\medskip': 427,\n",
       " '\\\\vrule': 425,\n",
       " '\\\\smallint': 494,\n",
       " '\\\\lower': 423,\n",
       " '\\\\protectu': 421,\n",
       " '\\\\normalsize': 420,\n",
       " '\\\\texttt': 417,\n",
       " '\\\\vskip': 414,\n",
       " '\\\\textnormal': 412,\n",
       " '\\\\right\\\\rbrack': 410,\n",
       " '0.5': 475,\n",
       " '\\\\left\\\\lbrack': 409,\n",
       " '\\\\bigsqcup': 408,\n",
       " '\\\\lfloor': 405,\n",
       " '\\\\parbox': 460,\n",
       " '\\\\bigtriangledown': 401,\n",
       " '\\\\P': 400,\n",
       " '\\\\Large': 399,\n",
       " '[object': 396,\n",
       " '\\\\buildrel': 394,\n",
       " '\\\\succeq': 390,\n",
       " 'mm': 388,\n",
       " 'cm': 385,\n",
       " '\\\\-': 383,\n",
       " '\\\\cdotp': 382,\n",
       " '\\\\makebox': 380,\n",
       " '\\\\renewcommand': 439,\n",
       " '\\\\setminus': 379,\n",
       " '\\\\pounds': 378,\n",
       " '\\\\#': 376,\n",
       " '\\\\ddots': 373,\n",
       " '\\\\j': 372,\n",
       " '\\\\doteq': 370,\n",
       " '\\\\uparrow': 367,\n",
       " \"\\\\'\": 366,\n",
       " '\\\\aleph': 393,\n",
       " '\\\\sl': 364,\n",
       " '\\\\hrule': 424,\n",
       " '\\\\emptyset': 363,\n",
       " '\\\\circle': 362,\n",
       " '\\\\put': 361,\n",
       " '\\\\diamondsuit': 404,\n",
       " '\\\\thicklines': 360,\n",
       " '\\\\setlength': 358,\n",
       " '\\\\enspace': 354,\n",
       " '\\\\cite': 454,\n",
       " '\\\\&': 351,\n",
       " '\\\\textit': 350,\n",
       " '\\\\bigotimes': 347,\n",
       " '\\\\bmod': 355,\n",
       " '\\\\protect': 346,\n",
       " '\\\\/': 345,\n",
       " '\\\\ddag': 478,\n",
       " '\\\\rbrace': 344,\n",
       " '?': 419,\n",
       " '\\\\iota': 343,\n",
       " '\\\\SS': 463,\n",
       " '\\\\ae': 443,\n",
       " '\\\\relax': 342,\n",
       " '\\\\kern': 340,\n",
       " '\\\\land': 339,\n",
       " '\\\\o': 338,\n",
       " '\\\\raise': 334,\n",
       " '\"': 329,\n",
       " '\\\\pmod': 328,\n",
       " '\\\\large': 327,\n",
       " '\\\\mathsf': 326,\n",
       " '\\\\atop': 325,\n",
       " '\\\\do': 323,\n",
       " '\\\\subseteq': 322,\n",
       " '\\\\Longleftrightarrow': 319,\n",
       " '\\\\right\\\\vert': 317,\n",
       " '\\\\l': 316,\n",
       " '\\\\O': 369,\n",
       " '\\\\|': 312,\n",
       " '\\\\bullet': 310,\n",
       " '\\\\bigoplus': 309,\n",
       " '\\\\colon': 308,\n",
       " '\\\\noalign': 413,\n",
       " '\\\\i': 306,\n",
       " '\\\\*': 474,\n",
       " '\\\\right\\\\rfloor': 304,\n",
       " '\\\\left\\\\lfloor': 303,\n",
       " '\\\\not': 298,\n",
       " '\\\\Biggl': 313,\n",
       " '`': 297,\n",
       " '\\\\underbrace': 296,\n",
       " '\\\\grave': 356,\n",
       " '\\\\Leftrightarrow': 294,\n",
       " '\\\\acute': 292,\n",
       " '\\\\framebox': 416,\n",
       " '\\\\em': 324,\n",
       " '\\\\vphantom': 293,\n",
       " '\\\\cap': 290,\n",
       " 'pt': 288,\n",
       " 'ule': 286,\n",
       " '\\\\raisebox': 285,\n",
       " '\\\\supset': 284,\n",
       " '\\\\scriptscriptstyle': 282,\n",
       " '\\\\mathit': 283,\n",
       " '\\\\right>': 280,\n",
       " '\\\\left<': 279,\n",
       " '\\\\ni': 337,\n",
       " '\\\\ll': 278,\n",
       " '\\\\triangleright': 472,\n",
       " '\\\\varsigma': 277,\n",
       " '\\\\rightleftharpoons': 275,\n",
       " '\\\\longleftarrow': 436,\n",
       " 'Object]': 397,\n",
       " '\\\\rbrack': 274,\n",
       " '\\\\label': 289,\n",
       " '\\\\cong': 270,\n",
       " '\\\\rightharpoonup': 269,\n",
       " '\\\\ge': 266,\n",
       " '\\\\biggr': 265,\n",
       " '\\\\perp': 259,\n",
       " '\\\\Rightarrow': 258,\n",
       " '\\\\Omega': 125,\n",
       " '\\\\right]': 97,\n",
       " '\\\\Vert': 386,\n",
       " '&': 122,\n",
       " '\\\\longmapsto': 381,\n",
       " '\\\\rfloor': 302,\n",
       " '\\\\hspace': 159,\n",
       " '\\\\gamma': 5,\n",
       " 'R': 114,\n",
       " '\\\\itshape': 495,\n",
       " '*': 55,\n",
       " '4': 112,\n",
       " 'v': 108,\n",
       " 'E': 106,\n",
       " '\\\\odot': 348,\n",
       " '\\\\{': 129,\n",
       " '\\\\varpi': 174,\n",
       " '\\\\ooalign': 457,\n",
       " '\\\\left\\\\lbrace': 320,\n",
       " 'u': 96,\n",
       " '\\\\arraycolsep': 451,\n",
       " '\\\\tiny': 182,\n",
       " '\\\\vartheta': 211,\n",
       " 'D': 93,\n",
       " '\\\\jmath': 251,\n",
       " '\\\\vert': 198,\n",
       " '\\\\d': 208,\n",
       " 'w': 91,\n",
       " '\\\\backslash': 291,\n",
       " '\\\\textstyle': 103,\n",
       " '\\\\chi': 128,\n",
       " 'L': 29,\n",
       " '3.1': 491,\n",
       " '\\\\line': 415,\n",
       " '\\\\Gamma': 156,\n",
       " '\\\\mit': 307,\n",
       " '\\\\vec': 167,\n",
       " '\\\\vcenter': 455,\n",
       " '\\\\triangle': 210,\n",
       " '\\\\alpha': 88,\n",
       " ',': 34,\n",
       " '\\\\rlap': 465,\n",
       " '\\\\mapsto': 217,\n",
       " '\\\\b': 264,\n",
       " 'P': 87,\n",
       " '\\\\hbar': 187,\n",
       " '\\\\asymp': 422,\n",
       " '\\\\Upsilon': 262,\n",
       " ':': 84,\n",
       " 'y': 105,\n",
       " '~': 81,\n",
       " '/': 107,\n",
       " 'c': 78,\n",
       " '\\\\end{array}': 124,\n",
       " '\\\\delta': 80,\n",
       " '\\\\ref': 374,\n",
       " '\\\\circ': 254,\n",
       " '\\\\rightarrow': 188,\n",
       " '\\\\ne': 311,\n",
       " '\\\\operatorname*': 206,\n",
       " '6': 75,\n",
       " '\\\\nu': 69,\n",
       " '\\\\leftarrow': 384,\n",
       " 'e': 70,\n",
       " 'O': 179,\n",
       " '\\\\fbox': 365,\n",
       " '\\\\prime': 61,\n",
       " '\\\\parallel': 260,\n",
       " '\\\\cdot': 200,\n",
       " '\\\\nolinebreak': 445,\n",
       " 'B': 60,\n",
       " '^': 25,\n",
       " 'Q': 117,\n",
       " '5': 44,\n",
       " '\\\\frac': 20,\n",
       " '\\\\widetilde': 4,\n",
       " '\\\\unitlength': 359,\n",
       " '\\\\downarrow': 357,\n",
       " '\\\\mathcal': 185,\n",
       " '-': 22,\n",
       " '\\\\mu': 67,\n",
       " '8.5': 389,\n",
       " '1': 27,\n",
       " 'p': 11,\n",
       " 'l': 98,\n",
       " '\\\\textsf': 403,\n",
       " '\\\\vdots': 330,\n",
       " '\\\\varrho': 228,\n",
       " '+': 47,\n",
       " 'C': 115,\n",
       " '\\\\int': 104,\n",
       " '---': 428,\n",
       " '\\\\cal': 28,\n",
       " 'Z': 165,\n",
       " '\\\\small': 175,\n",
       " \"'\": 215,\n",
       " '\\\\Delta': 173,\n",
       " '\\\\eta': 65,\n",
       " '\\\\rho': 85,\n",
       " '\\\\lbrack': 273,\n",
       " '\\\\times': 111,\n",
       " '\\\\ddot': 180,\n",
       " '\\\\ominus': 452,\n",
       " '\\\\hline': 271,\n",
       " '\\\\smallskip': 202,\n",
       " '\\\\rangle': 110,\n",
       " '\\\\sim': 116,\n",
       " '\\\\overbrace': 406,\n",
       " '\\\\Psi': 186,\n",
       " '[': 130,\n",
       " 'H': 36,\n",
       " '\\\\ell': 140,\n",
       " '\\\\phi': 58,\n",
       " '\\\\,': 53,\n",
       " '\\\\lefteqn': 368,\n",
       " '>': 17,\n",
       " '\\\\Phi': 90,\n",
       " '\\\\left\\\\{': 76,\n",
       " 'a': 23,\n",
       " '\\\\check': 305,\n",
       " '\\\\psi': 101,\n",
       " '0.4': 287,\n",
       " '\\\\': 35,\n",
       " '<bos>': 1,\n",
       " '\\\\sf': 300,\n",
       " '\\\\simeq': 14,\n",
       " '<eos>': 2,\n",
       " '\\\\wp': 263,\n",
       " 'z': 94,\n",
       " '_': 6,\n",
       " '\\\\setcounter': 438,\n",
       " '\\\\tilde': 73,\n",
       " '\\\\sum': 15,\n",
       " '(': 21,\n",
       " '3': 45,\n",
       " '\\\\sb': 318,\n",
       " '\\\\left\\\\langle': 204,\n",
       " '0': 18,\n",
       " '\\\\mathrm': 8,\n",
       " 'T': 100,\n",
       " '\\\\sp': 51,\n",
       " '\\\\gg': 315,\n",
       " '8': 99,\n",
       " '\\\\infty': 145,\n",
       " '\\\\neq': 227,\n",
       " '\\\\Biggr': 314,\n",
       " '\\\\!': 83,\n",
       " '\\\\bar': 48,\n",
       " '2': 26,\n",
       " '\\\\forall': 150,\n",
       " '\\\\ss': 473,\n",
       " '\\\\c': 220,\n",
       " '\\\\dagger': 52,\n",
       " 'f': 12,\n",
       " '<unk>': 3,\n",
       " '\\\\epsilon': 157,\n",
       " '\\\\lambda': 64,\n",
       " '\\\\left\\\\|': 335,\n",
       " '\\\\omega': 121,\n",
       " 'g': 30,\n",
       " '\\\\cdots': 118,\n",
       " '\\\\hphantom': 407,\n",
       " 'i': 31,\n",
       " '\\\\geq': 234,\n",
       " '\\\\ldots': 207,\n",
       " '\\\\vline': 476,\n",
       " '\\\\xi': 113,\n",
       " '\\\\longleftrightarrow': 209,\n",
       " '\\\\sqrt': 42,\n",
       " '\\\\space': 392,\n",
       " '\\\\bot': 267,\n",
       " '=': 33,\n",
       " 'k': 37,\n",
       " 'j': 32,\n",
       " '\\\\Bigl': 243,\n",
       " '\\\\langle': 109,\n",
       " 'h': 9,\n",
       " '\\\\;': 126,\n",
       " '\\\\Biggm': 453,\n",
       " '\\\\lq': 442,\n",
       " '\\\\scriptsize': 237,\n",
       " '\\\\quad': 82,\n",
       " '\\\\partial': 66,\n",
       " 'V': 72,\n",
       " ')': 24,\n",
       " '\\\\nabla': 181,\n",
       " '\\\\LARGE': 448,\n",
       " '\\\\beta': 119,\n",
       " '\\\\right.': 147,\n",
       " '\\\\le': 246,\n",
       " '\\\\S': 375,\n",
       " '\\\\llap': 341,\n",
       " '\\\\right|': 177,\n",
       " '\\\\Longleftarrow': 467,\n",
       " '\\\\cup': 333,\n",
       " 'I': 168,\n",
       " '\\\\hat': 50,\n",
       " '\\\\bigm': 464,\n",
       " 'b': 77,\n",
       " '\\\\tau': 155,\n",
       " '\\\\\\\\': 123,\n",
       " '0.14': 387,\n",
       " '\\\\in': 151,\n",
       " 'J': 59,\n",
       " 't': 40,\n",
       " '\\\\left(': 46,\n",
       " '\\\\displaystyle': 213,\n",
       " '\\\\prod': 170,\n",
       " '\\\\right)': 49,\n",
       " 'x': 71,\n",
       " 'F': 68,\n",
       " 'd': 56,\n",
       " 'in': 497,\n",
       " '\\\\m': 449,\n",
       " '<': 166,\n",
       " '\\\\Huge': 377,\n",
       " '\\\\overrightarrow': 257,\n",
       " '\\\\qquad': 127,\n",
       " '\\\\hfill': 395,\n",
       " '\\\\lbrace': 332,\n",
       " '\\\\imath': 250,\n",
       " ']': 131,\n",
       " 'r': 63,\n",
       " '\\\\}': 132,\n",
       " '\\\\dot': 134,\n",
       " '\\\\flat': 331,\n",
       " '{': 7,\n",
       " '\\\\pm': 136,\n",
       " '\\\\sc': 446,\n",
       " 'W': 138,\n",
       " '\\\\Pi': 139,\n",
       " '\\\\crcr': 459,\n",
       " '\\\\left[': 95,\n",
       " '\\\\sigma': 160,\n",
       " '\\\\scriptstyle': 149,\n",
       " '\\\\textrm': 248,\n",
       " '\\\\Big': 195,\n",
       " '\\\\overline': 142,\n",
       " '\\\\mathbf': 221,\n",
       " '\\\\textup': 295,\n",
       " '\\\\:': 143,\n",
       " '|': 144,\n",
       " '\\\\_': 398,\n",
       " '\\\\kappa': 57,\n",
       " 'N': 43,\n",
       " '\\\\varphi': 152,\n",
       " '\\\\bf': 162,\n",
       " '\\\\diamond': 391,\n",
       " 'Y': 194,\n",
       " '9': 164,\n",
       " '\\\\vspace': 146,\n",
       " '\\\\oslash': 434,\n",
       " '\\\\upsilon': 371,\n",
       " '\\\\longrightarrow': 241,\n",
       " '\\\\hss': 499,\n",
       " '\\\\equiv': 148,\n",
       " '\\\\Im': 276,\n",
       " '\\\\operatorname': 102,\n",
       " 'X': 135,\n",
       " '\\\\Sigma': 153,\n",
       " '\\\\right\\\\|': 336,\n",
       " 'M': 154,\n",
       " '\\\\underline': 199,\n",
       " '!': 161,\n",
       " '\\\\Lambda': 163,\n",
       " '\\\\mathbin': 281,\n",
       " '\\\\leftrightarrow': 191,\n",
       " 'q': 86,\n",
       " '\\\\mathop': 169,\n",
       " '\\\\left.': 171,\n",
       " '\\\\boldmath': 184,\n",
       " '\\\\begin{array}': 120,\n",
       " '}': 13,\n",
       " '\\\\Bigr': 244,\n",
       " '\\\\subset': 253,\n",
       " 'U': 178,\n",
       " '.': 54,\n",
       " '\\\\varepsilon': 141,\n",
       " '\\\\wedge': 183,\n",
       " '\\\\phantom': 236,\n",
       " '\\\\bigcup': 402,\n",
       " 'A': 62,\n",
       " '\\\\it': 189,\n",
       " '\\\\textbf': 349,\n",
       " '\\\\lceil': 301,\n",
       " '\\\\big': 212,\n",
       " '\\\\stackrel': 190,\n",
       " '\\\\pi': 41,\n",
       " '\\\\bigr': 233,\n",
       " '\\\\enskip': 482,\n",
       " '\\\\approx': 192,\n",
       " '\\\\Bigm': 456,\n",
       " '\\\\Longrightarrow': 272,\n",
       " '\\\\bigtriangleup': 92,\n",
       " '\\\\right\\\\}': 79,\n",
       " '7': 193,\n",
       " '\\\\Theta': 245,\n",
       " 'm': 74,\n",
       " '\\\\star': 196,\n",
       " '\\\\vss': 498,\n",
       " '\\\\zeta': 158,\n",
       " '\\\\Bigg': 197,\n",
       " '<pad>': 0,\n",
       " '\\\\slash': 203,\n",
       " '\\\\right\\\\rangle': 205,\n",
       " '\\\\L': 268,\n",
       " ';': 137,\n",
       " '\\\\Xi': 218,\n",
       " 'n': 16,\n",
       " 's': 39,\n",
       " '\\\\to': 214,\n",
       " '3.2': 492,\n",
       " '\\\\dag': 216,\n",
       " '\\\\mid': 219,\n",
       " '\\\\left|': 176,\n",
       " 'K': 133,\n",
       " '\\\\nonumber': 172,\n",
       " '\\\\dots': 222,\n",
       " '\\\\supseteq': 426,\n",
       " '\\\\otimes': 223,\n",
       " '\\\\sharp': 353,\n",
       " '\\\\footnotesize': 224,\n",
       " '\\\\thinspace': 225,\n",
       " 'S': 38,\n",
       " '\\\\oint': 226,\n",
       " 'o': 10,\n",
       " '\\\\breve': 229,\n",
       " '\\\\ast': 230,\n",
       " '\\\\binom': 231,\n",
       " '\\\\bigl': 232,\n",
       " '\\\\mkern': 411,\n",
       " '\\\\biggl': 235,\n",
       " '\\\\leq': 238,\n",
       " '\\\\vee': 299,\n",
       " '\\\\mp': 239,\n",
       " '\\\\bigcap': 418,\n",
       " '\\\\left\\\\vert': 240,\n",
       " '\\\\tt': 242,\n",
       " '\\\\right\\\\rbrace': 321,\n",
       " 'G': 19,\n",
       " '\\\\widehat': 201,\n",
       " '\\\\propto': 247,\n",
       " '\\\\fboxsep': 471,\n",
       " '\\\\vdash': 352,\n",
       " '\\\\Re': 261,\n",
       " '--': 249,\n",
       " '\\\\theta': 89,\n",
       " '\\\\oplus': 252,\n",
       " '\\\\bigg': 255,\n",
       " '\\\\overleftarrow': 256}"
      ]
     },
     "execution_count": 61,
     "metadata": {},
     "output_type": "execute_result"
    }
   ],
   "source": [
    "dataset.tokenizer.vocab.get_stoi()"
   ]
  },
  {
   "cell_type": "code",
   "execution_count": 26,
   "metadata": {},
   "outputs": [
    {
     "data": {
      "text/plain": [
       "<matplotlib.image.AxesImage at 0x7f8544b12350>"
      ]
     },
     "execution_count": 26,
     "metadata": {},
     "output_type": "execute_result"
    },
    {
     "data": {
      "image/png": "[encoded data removed]",
      "text/plain": [
       "<Figure size 640x480 with 1 Axes>"
      ]
     },
     "metadata": {},
     "output_type": "display_data"
    }
   ],
   "source": [
    "from matplotlib import pyplot as plt\n",
    "plt.imshow(data[0][1].permute(1, 2, 0))"
   ]
  },
  {
   "cell_type": "code",
   "execution_count": 50,
   "metadata": {},
   "outputs": [],
   "source": [
    "result = model(data[0], data[1])"
   ]
  },
  {
   "cell_type": "code",
   "execution_count": 51,
   "metadata": {},
   "outputs": [
    {
     "data": {
      "text/plain": [
       "torch.Size([2, 500, 150])"
      ]
     },
     "execution_count": 51,
     "metadata": {},
     "output_type": "execute_result"
    }
   ],
   "source": [
    "result.shape"
   ]
  },
  {
   "cell_type": "code",
   "execution_count": 34,
   "metadata": {},
   "outputs": [
    {
     "data": {
      "text/plain": [
       "<matplotlib.image.AxesImage at 0x7eff964e5690>"
      ]
     },
     "execution_count": 34,
     "metadata": {},
     "output_type": "execute_result"
    },
    {
     "data": {
      "image/png": "[encoded data removed]",
      "text/plain": [
       "<Figure size 640x480 with 1 Axes>"
      ]
     },
     "metadata": {},
     "output_type": "display_data"
    }
   ],
   "source": [
    "data[0][0][0]\n",
    "\n",
    "import matplotlib.pyplot as plt\n",
    "\n",
    "plt.imshow(data[0][1][0], cmap='gray')"
   ]
  },
  {
   "cell_type": "code",
   "execution_count": 2,
   "metadata": {},
   "outputs": [
    {
     "name": "stdout",
     "output_type": "stream",
     "text": [
      "The autoreload extension is already loaded. To reload it, use:\n",
      "  %reload_ext autoreload\n"
     ]
    }
   ],
   "source": [
    "%load_ext autoreload\n",
    "%autoreload 2\n",
    "\n",
    "from src.config import config\n",
    "from src.runner import Runner"
   ]
  },
  {
   "cell_type": "code",
   "execution_count": 3,
   "metadata": {},
   "outputs": [],
   "source": [
    "runner = Runner(config)"
   ]
  },
  {
   "cell_type": "code",
   "execution_count": 4,
   "metadata": {},
   "outputs": [
    {
     "ename": "KeyboardInterrupt",
     "evalue": "",
     "output_type": "error",
     "traceback": [
      "\u001b[0;31m---------------------------------------------------------------------------\u001b[0m",
      "\u001b[0;31mKeyboardInterrupt\u001b[0m                         Traceback (most recent call last)",
      "Cell \u001b[0;32mIn[4], line 1\u001b[0m\n\u001b[0;32m----> 1\u001b[0m \u001b[43mrunner\u001b[49m\u001b[38;5;241;43m.\u001b[39;49m\u001b[43mtrain\u001b[49m\u001b[43m(\u001b[49m\u001b[43m)\u001b[49m\n",
      "File \u001b[0;32m~/workspace/math2latex/src/runner.py:89\u001b[0m, in \u001b[0;36mRunner.train\u001b[0;34m(self)\u001b[0m\n\u001b[1;32m     87\u001b[0m iter_count \u001b[38;5;241m=\u001b[39m \u001b[38;5;241m0\u001b[39m\n\u001b[1;32m     88\u001b[0m \u001b[38;5;28;01mfor\u001b[39;00m \u001b[38;5;28miter\u001b[39m, batch \u001b[38;5;129;01min\u001b[39;00m \u001b[38;5;28menumerate\u001b[39m(\u001b[38;5;28mself\u001b[39m\u001b[38;5;241m.\u001b[39mtrain_dataloader):\n\u001b[0;32m---> 89\u001b[0m     loss \u001b[38;5;241m=\u001b[39m \u001b[38;5;28;43mself\u001b[39;49m\u001b[38;5;241;43m.\u001b[39;49m\u001b[43mtrain_step\u001b[49m\u001b[43m(\u001b[49m\u001b[43mbatch\u001b[49m\u001b[43m)\u001b[49m\n\u001b[1;32m     90\u001b[0m     epoch_loss \u001b[38;5;241m+\u001b[39m\u001b[38;5;241m=\u001b[39m loss\n\u001b[1;32m     91\u001b[0m     iter_count \u001b[38;5;241m+\u001b[39m\u001b[38;5;241m=\u001b[39m \u001b[38;5;241m1\u001b[39m\n",
      "File \u001b[0;32m~/workspace/math2latex/src/runner.py:69\u001b[0m, in \u001b[0;36mRunner.train_step\u001b[0;34m(self, batch)\u001b[0m\n\u001b[1;32m     67\u001b[0m output \u001b[38;5;241m=\u001b[39m \u001b[38;5;28mself\u001b[39m\u001b[38;5;241m.\u001b[39mmodel(images, targets[:, :\u001b[38;5;241m-\u001b[39m\u001b[38;5;241m1\u001b[39m])\n\u001b[1;32m     68\u001b[0m loss \u001b[38;5;241m=\u001b[39m \u001b[38;5;28mself\u001b[39m\u001b[38;5;241m.\u001b[39mloss(output, targets[:, \u001b[38;5;241m1\u001b[39m:])\n\u001b[0;32m---> 69\u001b[0m \u001b[43mloss\u001b[49m\u001b[38;5;241;43m.\u001b[39;49m\u001b[43mbackward\u001b[49m\u001b[43m(\u001b[49m\u001b[43m)\u001b[49m\n\u001b[1;32m     70\u001b[0m \u001b[38;5;28mself\u001b[39m\u001b[38;5;241m.\u001b[39moptimizer\u001b[38;5;241m.\u001b[39mstep()\n\u001b[1;32m     71\u001b[0m \u001b[38;5;28;01mreturn\u001b[39;00m loss\n",
      "File \u001b[0;32m~/workspace/math2latex/venv/lib/python3.10/site-packages/torch/_tensor.py:522\u001b[0m, in \u001b[0;36mTensor.backward\u001b[0;34m(self, gradient, retain_graph, create_graph, inputs)\u001b[0m\n\u001b[1;32m    512\u001b[0m \u001b[38;5;28;01mif\u001b[39;00m has_torch_function_unary(\u001b[38;5;28mself\u001b[39m):\n\u001b[1;32m    513\u001b[0m     \u001b[38;5;28;01mreturn\u001b[39;00m handle_torch_function(\n\u001b[1;32m    514\u001b[0m         Tensor\u001b[38;5;241m.\u001b[39mbackward,\n\u001b[1;32m    515\u001b[0m         (\u001b[38;5;28mself\u001b[39m,),\n\u001b[0;32m   (...)\u001b[0m\n\u001b[1;32m    520\u001b[0m         inputs\u001b[38;5;241m=\u001b[39minputs,\n\u001b[1;32m    521\u001b[0m     )\n\u001b[0;32m--> 522\u001b[0m \u001b[43mtorch\u001b[49m\u001b[38;5;241;43m.\u001b[39;49m\u001b[43mautograd\u001b[49m\u001b[38;5;241;43m.\u001b[39;49m\u001b[43mbackward\u001b[49m\u001b[43m(\u001b[49m\n\u001b[1;32m    523\u001b[0m \u001b[43m    \u001b[49m\u001b[38;5;28;43mself\u001b[39;49m\u001b[43m,\u001b[49m\u001b[43m \u001b[49m\u001b[43mgradient\u001b[49m\u001b[43m,\u001b[49m\u001b[43m \u001b[49m\u001b[43mretain_graph\u001b[49m\u001b[43m,\u001b[49m\u001b[43m \u001b[49m\u001b[43mcreate_graph\u001b[49m\u001b[43m,\u001b[49m\u001b[43m \u001b[49m\u001b[43minputs\u001b[49m\u001b[38;5;241;43m=\u001b[39;49m\u001b[43minputs\u001b[49m\n\u001b[1;32m    524\u001b[0m \u001b[43m\u001b[49m\u001b[43m)\u001b[49m\n",
      "File \u001b[0;32m~/workspace/math2latex/venv/lib/python3.10/site-packages/torch/autograd/__init__.py:266\u001b[0m, in \u001b[0;36mbackward\u001b[0;34m(tensors, grad_tensors, retain_graph, create_graph, grad_variables, inputs)\u001b[0m\n\u001b[1;32m    261\u001b[0m     retain_graph \u001b[38;5;241m=\u001b[39m create_graph\n\u001b[1;32m    263\u001b[0m \u001b[38;5;66;03m# The reason we repeat the same comment below is that\u001b[39;00m\n\u001b[1;32m    264\u001b[0m \u001b[38;5;66;03m# some Python versions print out the first line of a multi-line function\u001b[39;00m\n\u001b[1;32m    265\u001b[0m \u001b[38;5;66;03m# calls in the traceback and some print out the last line\u001b[39;00m\n\u001b[0;32m--> 266\u001b[0m \u001b[43mVariable\u001b[49m\u001b[38;5;241;43m.\u001b[39;49m\u001b[43m_execution_engine\u001b[49m\u001b[38;5;241;43m.\u001b[39;49m\u001b[43mrun_backward\u001b[49m\u001b[43m(\u001b[49m\u001b[43m  \u001b[49m\u001b[38;5;66;43;03m# Calls into the C++ engine to run the backward pass\u001b[39;49;00m\n\u001b[1;32m    267\u001b[0m \u001b[43m    \u001b[49m\u001b[43mtensors\u001b[49m\u001b[43m,\u001b[49m\n\u001b[1;32m    268\u001b[0m \u001b[43m    \u001b[49m\u001b[43mgrad_tensors_\u001b[49m\u001b[43m,\u001b[49m\n\u001b[1;32m    269\u001b[0m \u001b[43m    \u001b[49m\u001b[43mretain_graph\u001b[49m\u001b[43m,\u001b[49m\n\u001b[1;32m    270\u001b[0m \u001b[43m    \u001b[49m\u001b[43mcreate_graph\u001b[49m\u001b[43m,\u001b[49m\n\u001b[1;32m    271\u001b[0m \u001b[43m    \u001b[49m\u001b[43minputs\u001b[49m\u001b[43m,\u001b[49m\n\u001b[1;32m    272\u001b[0m \u001b[43m    \u001b[49m\u001b[43mallow_unreachable\u001b[49m\u001b[38;5;241;43m=\u001b[39;49m\u001b[38;5;28;43;01mTrue\u001b[39;49;00m\u001b[43m,\u001b[49m\n\u001b[1;32m    273\u001b[0m \u001b[43m    \u001b[49m\u001b[43maccumulate_grad\u001b[49m\u001b[38;5;241;43m=\u001b[39;49m\u001b[38;5;28;43;01mTrue\u001b[39;49;00m\u001b[43m,\u001b[49m\n\u001b[1;32m    274\u001b[0m \u001b[43m\u001b[49m\u001b[43m)\u001b[49m\n",
      "\u001b[0;31mKeyboardInterrupt\u001b[0m: "
     ]
    }
   ],
   "source": [
    "runner.train()"
   ]
  }
 ],
 "metadata": {
  "kernelspec": {
   "display_name": "myenv",
   "language": "python",
   "name": "python3"
  },
  "language_info": {
   "codemirror_mode": {
    "name": "ipython",
    "version": 3
   },
   "file_extension": ".py",
   "mimetype": "text/x-python",
   "name": "python",
   "nbconvert_exporter": "python",
   "pygments_lexer": "ipython3",
   "version": "3.10.12"
  },
  "orig_nbformat": 4
 },
 "nbformat": 4,
 "nbformat_minor": 2
}
