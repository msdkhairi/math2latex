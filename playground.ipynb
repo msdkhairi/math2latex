{
 "cells": [
  {
   "cell_type": "code",
   "execution_count": 4,
   "metadata": {},
   "outputs": [
    {
     "name": "stdout",
     "output_type": "stream",
     "text": [
      "The autoreload extension is already loaded. To reload it, use:\n",
      "  %reload_ext autoreload\n"
     ]
    }
   ],
   "source": [
    "# magic command for reload \n",
    "%load_ext autoreload\n",
    "%autoreload 2\n",
    "\n",
    "import numpy as np\n",
    "import torch\n",
    "\n",
    "from src.data.utils import get_formulas, get_max_length, get_formula_length_histogram\n",
    "from src.data.dataset import get_dataloader, BaseDataset, TrainDataset\n",
    "from src.model.transformer2 import ResNetTransformer"
   ]
  },
  {
   "cell_type": "code",
   "execution_count": 3,
   "metadata": {},
   "outputs": [],
   "source": [
    "# Example usage:\n",
    "image_dir = 'dataset/formula_images_processed/'\n",
    "image_list_file = 'dataset/im2latex_train_filter.lst'\n",
    "label_file = 'dataset/im2latex_formulas.norm.lst'\n",
    "# label_file = 'dataset/im2latex_formulas.tok.lst'"
   ]
  },
  {
   "cell_type": "code",
   "execution_count": 4,
   "metadata": {},
   "outputs": [],
   "source": [
    "# get all formulas\n",
    "formulas = get_formulas(label_file)\n",
    "\n",
    "# # get max length of formulas\n",
    "# max_len = get_max_length(formulas)\n",
    "\n",
    "# get a histogram of formula lengths\n",
    "hist = get_formula_length_histogram(formulas)\n",
    "\n",
    "# set max_len to where formula occurs at least 100 times using histogram\n",
    "max_len = get_max_length(formulas, min_occurrences=100)\n",
    "\n",
    "# tokenizer = TokenizerWrap(formulas, max_len, reverse=True)"
   ]
  },
  {
   "cell_type": "code",
   "execution_count": 69,
   "metadata": {},
   "outputs": [],
   "source": [
    "tokenizer1 = Tokenizer(formulas)\n",
    "# tokenizer2 = Tokenizer2()\n",
    "# tokenizer2.train(formulas)"
   ]
  },
  {
   "cell_type": "code",
   "execution_count": 37,
   "metadata": {},
   "outputs": [
    {
     "data": {
      "text/plain": [
       "(595, 98, 3)"
      ]
     },
     "execution_count": 37,
     "metadata": {},
     "output_type": "execute_result"
    }
   ],
   "source": [
    "len(tokenizer1), len(tokenizer2), tokenizer1.vocab.get_default_index()"
   ]
  },
  {
   "cell_type": "code",
   "execution_count": null,
   "metadata": {},
   "outputs": [],
   "source": [
    "tokenizer1.decode(tokenizer1.encode(formulas[0]))"
   ]
  },
  {
   "cell_type": "code",
   "execution_count": null,
   "metadata": {},
   "outputs": [],
   "source": [
    "tokenizer1.decode(tokenizer1.encode(formulas[18]))\n",
    "# tokenizer2.decode(tokenizer2.encode(formulas[0]))"
   ]
  },
  {
   "cell_type": "code",
   "execution_count": 18,
   "metadata": {},
   "outputs": [],
   "source": [
    "dataset_root = 'dataset'\n",
    "images_folder = 'formula_images_processed'\n",
    "label_file = 'im2latex_formulas.norm.lst'\n",
    "data_train_filter = 'im2latex_train_filter.lst'\n",
    "\n",
    "dataset = BaseDataset(dataset_root, images_folder, label_file, data_train_filter)\n"
   ]
  },
  {
   "cell_type": "code",
   "execution_count": 25,
   "metadata": {},
   "outputs": [
    {
     "data": {
      "text/plain": [
       "500"
      ]
     },
     "execution_count": 25,
     "metadata": {},
     "output_type": "execute_result"
    }
   ],
   "source": [
    "len(dataset.tokenizer)"
   ]
  },
  {
   "cell_type": "code",
   "execution_count": 89,
   "metadata": {},
   "outputs": [
    {
     "name": "stderr",
     "output_type": "stream",
     "text": [
      "/home/masoud/workspace/math2latex/venv/lib/python3.10/site-packages/torchvision/models/_utils.py:208: UserWarning: The parameter 'pretrained' is deprecated since 0.13 and may be removed in the future, please use 'weights' instead.\n",
      "  warnings.warn(\n",
      "/home/masoud/workspace/math2latex/venv/lib/python3.10/site-packages/torchvision/models/_utils.py:223: UserWarning: Arguments other than a weight enum or `None` for 'weights' are deprecated since 0.13 and may be removed in the future. The current behavior is equivalent to passing `weights=ResNet18_Weights.IMAGENET1K_V1`. You can also use `weights=ResNet18_Weights.DEFAULT` to get the most up-to-date weights.\n",
      "  warnings.warn(msg)\n"
     ]
    }
   ],
   "source": [
    "import torchvision\n",
    "resnet = torchvision.models.resnet18(pretrained=True)"
   ]
  },
  {
   "cell_type": "code",
   "execution_count": 104,
   "metadata": {},
   "outputs": [
    {
     "name": "stdout",
     "output_type": "stream",
     "text": [
      "(160, 64) \\widetilde \\gamma _ { \\mathrm { h o p f } } \\simeq \\sum _ { n > 0 } \\widetilde { G } _ { n } { \\frac { ( - a ) ^ { n } } { 2 ^ { 2 n - 1 } } }\n"
     ]
    }
   ],
   "source": [
    "for data in dataset:\n",
    "    print(data[0].size, data[1])\n",
    "    break"
   ]
  },
  {
   "cell_type": "code",
   "execution_count": 120,
   "metadata": {},
   "outputs": [
    {
     "data": {
      "image/png": "[encoded data removed]",
      "text/plain": [
       "<Figure size 640x480 with 1 Axes>"
      ]
     },
     "metadata": {},
     "output_type": "display_data"
    },
    {
     "name": "stdout",
     "output_type": "stream",
     "text": [
      "Max height: 480\n",
      "Max width: 160\n",
      "Min height: 128\n",
      "Min width: 32\n"
     ]
    }
   ],
   "source": [
    "import matplotlib.pyplot as plt\n",
    "\n",
    "heights = []\n",
    "widths = []\n",
    "\n",
    "for data in dataset:\n",
    "    h, w = data[0].size\n",
    "    heights.append(h)\n",
    "    widths.append(w)\n",
    "\n",
    "max_height = max(heights)\n",
    "max_width = max(widths)\n",
    "\n",
    "plt.hist(heights, bins=20, alpha=0.5, label='Height')\n",
    "plt.hist(widths, bins=20, alpha=0.5, label='Width')\n",
    "plt.legend(loc='upper right')\n",
    "plt.show()\n",
    "\n",
    "print(f\"Max height: {max_height}\")\n",
    "print(f\"Max width: {max_width}\")\n",
    "\n",
    "print(f\"Min height: {min(heights)}\")\n",
    "print(f\"Min width: {min(widths)}\")"
   ]
  },
  {
   "cell_type": "code",
   "execution_count": 134,
   "metadata": {},
   "outputs": [
    {
     "data": {
      "text/plain": [
       "(224, 32)"
      ]
     },
     "execution_count": 134,
     "metadata": {},
     "output_type": "execute_result"
    }
   ],
   "source": [
    "dataset[1][0].size"
   ]
  },
  {
   "cell_type": "code",
   "execution_count": 6,
   "metadata": {},
   "outputs": [],
   "source": [
    "from src.model.transformer2 import ResNetTransformer"
   ]
  },
  {
   "cell_type": "code",
   "execution_count": 10,
   "metadata": {},
   "outputs": [],
   "source": [
    "# model = ResNetTransformer(d_model=128,\n",
    "#                           num_heads=4,\n",
    "#                           num_encoder_layers=2,\n",
    "#                           num_decoder_layers=3,\n",
    "#                           dim_feedforward=256,\n",
    "#                           dropout=0.2)\n",
    "\n",
    "model = ResNetTransformer(d_model=128,\n",
    "        dim_feedforward=256,\n",
    "        num_heads=4,\n",
    "        dropout=0.2,\n",
    "        num_decoder_layers=3,\n",
    "        max_output_len=150,\n",
    "        sos_index=1,\n",
    "        eos_index=2,\n",
    "        pad_index=0,\n",
    "        num_classes=500)"
   ]
  },
  {
   "cell_type": "code",
   "execution_count": 47,
   "metadata": {},
   "outputs": [
    {
     "name": "stdout",
     "output_type": "stream",
     "text": [
      "torch.Size([2, 3, 64, 224]) torch.Size([2, 150])\n"
     ]
    }
   ],
   "source": [
    "dataset_root = 'dataset'\n",
    "images_folder = 'formula_images_processed'\n",
    "label_file = 'im2latex_formulas.norm.lst'\n",
    "data_train_filter = 'im2latex_train_filter.lst'\n",
    "\n",
    "dataset = TrainDataset(dataset_root, images_folder, label_file, data_train_filter)\n",
    "\n",
    "dl = get_dataloader(dataset, batch_size=2, num_workers=0)\n",
    "for i, data in enumerate(dl):\n",
    "    print(data[0].shape, data[1].shape)\n",
    "    break"
   ]
  },
  {
   "cell_type": "code",
   "execution_count": 50,
   "metadata": {},
   "outputs": [],
   "source": [
    "result = model(data[0], data[1])"
   ]
  },
  {
   "cell_type": "code",
   "execution_count": 51,
   "metadata": {},
   "outputs": [
    {
     "data": {
      "text/plain": [
       "torch.Size([2, 500, 150])"
      ]
     },
     "execution_count": 51,
     "metadata": {},
     "output_type": "execute_result"
    }
   ],
   "source": [
    "result.shape"
   ]
  },
  {
   "cell_type": "code",
   "execution_count": 34,
   "metadata": {},
   "outputs": [
    {
     "data": {
      "text/plain": [
       "<matplotlib.image.AxesImage at 0x7eff964e5690>"
      ]
     },
     "execution_count": 34,
     "metadata": {},
     "output_type": "execute_result"
    },
    {
     "data": {
      "image/png": "[encoded data removed]",
      "text/plain": [
       "<Figure size 640x480 with 1 Axes>"
      ]
     },
     "metadata": {},
     "output_type": "display_data"
    }
   ],
   "source": [
    "data[0][0][0]\n",
    "\n",
    "import matplotlib.pyplot as plt\n",
    "\n",
    "plt.imshow(data[0][1][0], cmap='gray')"
   ]
  },
  {
   "cell_type": "code",
   "execution_count": 1,
   "metadata": {},
   "outputs": [],
   "source": [
    "%load_ext autoreload\n",
    "%autoreload 2\n",
    "\n",
    "from src.config import config\n",
    "from src.runner import Runner"
   ]
  },
  {
   "cell_type": "code",
   "execution_count": 2,
   "metadata": {},
   "outputs": [],
   "source": [
    "runner = Runner(config)"
   ]
  },
  {
   "cell_type": "code",
   "execution_count": 3,
   "metadata": {},
   "outputs": [
    {
     "name": "stdout",
     "output_type": "stream",
     "text": [
      "Epoch: 0 Iteration: 0 Loss: tensor(6.3444)\n",
      "Epoch: 0 Iteration: 100 Loss: tensor(3.0467)\n",
      "Epoch: 0 Iteration: 200 Loss: tensor(1.9689)\n",
      "Epoch: 0 Iteration: 300 Loss: tensor(1.3905)\n",
      "Epoch: 0 Iteration: 400 Loss: tensor(1.0660)\n",
      "Epoch: 0 Iteration: 500 Loss: tensor(0.8644)\n",
      "Epoch: 0 Iteration: 600 Loss: tensor(0.7281)\n",
      "Epoch: 0 Iteration: 700 Loss: tensor(0.6287)\n",
      "Epoch: 0 Iteration: 800 Loss: tensor(0.5543)\n",
      "Epoch: 0 Iteration: 900 Loss: tensor(0.4950)\n",
      "Epoch: 0 Iteration: 1000 Loss: tensor(0.4469)\n",
      "Epoch: 0 Iteration: 1100 Loss: tensor(0.4078)\n",
      "Epoch: 0 Iteration: 1200 Loss: tensor(0.3746)\n",
      "Epoch: 0 Iteration: 1300 Loss: tensor(0.3474)\n",
      "Epoch: 0 Iteration: 1400 Loss: tensor(0.3232)\n",
      "Epoch: 0 Iteration: 1500 Loss: tensor(0.3022)\n",
      "Epoch: 0 Iteration: 1600 Loss: tensor(0.2840)\n",
      "Epoch: 0 Iteration: 1700 Loss: tensor(0.2677)\n",
      "Epoch: 0 Iteration: 1800 Loss: tensor(0.2530)\n",
      "Epoch: 0 Iteration: 1900 Loss: tensor(0.2399)\n",
      "Epoch: 0 Iteration: 2000 Loss: tensor(0.2283)\n",
      "Epoch: 0 Iteration: 2100 Loss: tensor(0.2178)\n",
      "Epoch: 0 Iteration: 2200 Loss: tensor(0.2082)\n",
      "Epoch: 0 Iteration: 2300 Loss: tensor(0.1993)\n",
      "Epoch: 0 Iteration: 2400 Loss: tensor(0.1912)\n",
      "Epoch: 0 Iteration: 2500 Loss: tensor(0.1836)\n",
      "Epoch: 0 Iteration: 2600 Loss: tensor(0.1768)\n",
      "Epoch: 0 Iteration: 2700 Loss: tensor(0.1706)\n",
      "Epoch: 0 Iteration: 2800 Loss: tensor(0.1649)\n",
      "Epoch: 0 Iteration: 2900 Loss: tensor(0.1594)\n",
      "Epoch: 0 Iteration: 3000 Loss: tensor(0.1542)\n",
      "Epoch: 0 Iteration: 3100 Loss: tensor(0.1494)\n",
      "Epoch: 0 Iteration: 3200 Loss: tensor(0.1450)\n",
      "Epoch: 0 Iteration: 3300 Loss: tensor(0.1406)\n",
      "Epoch: 0 Iteration: 3400 Loss: tensor(0.1366)\n",
      "Epoch: 0 Iteration: 3500 Loss: tensor(0.1328)\n",
      "Epoch: 0 Iteration: 3600 Loss: tensor(0.1292)\n",
      "Epoch: 0 Iteration: 3700 Loss: tensor(0.1258)\n",
      "Epoch: 0 Iteration: 3800 Loss: tensor(0.1225)\n",
      "Epoch: 0 Iteration: 3900 Loss: tensor(0.1195)\n",
      "Epoch: 0 Iteration: 4000 Loss: tensor(0.1165)\n",
      "Epoch: 0 Iteration: 4100 Loss: tensor(0.1137)\n",
      "Epoch: 0 Iteration: 4200 Loss: tensor(0.1111)\n",
      "Epoch: 0 Iteration: 4300 Loss: tensor(0.1085)\n",
      "Epoch: 0 Iteration: 4400 Loss: tensor(0.1061)\n",
      "Epoch: 0 Iteration: 4500 Loss: tensor(0.1038)\n",
      "Epoch: 0 Iteration: 4600 Loss: tensor(0.1016)\n",
      "Epoch: 0 Iteration: 4700 Loss: tensor(0.0994)\n",
      "Epoch: 0 Iteration: 4800 Loss: tensor(0.0974)\n",
      "Epoch: 0 Iteration: 4900 Loss: tensor(0.0955)\n",
      "Epoch: 0 Iteration: 5000 Loss: tensor(0.0936)\n",
      "Epoch: 0 Iteration: 5100 Loss: tensor(0.0918)\n",
      "Epoch: 0 Iteration: 5200 Loss: tensor(0.0901)\n",
      "Epoch: 0 Iteration: 5300 Loss: tensor(0.0884)\n",
      "Epoch: 0 Iteration: 5400 Loss: tensor(0.0868)\n",
      "Epoch: 0 Iteration: 5500 Loss: tensor(0.0852)\n",
      "Epoch: 0 Iteration: 5600 Loss: tensor(0.0837)\n",
      "Epoch: 0 Iteration: 5700 Loss: tensor(0.0823)\n",
      "Epoch: 0 Iteration: 5800 Loss: tensor(0.0809)\n",
      "Epoch: 0 Iteration: 5900 Loss: tensor(0.0795)\n",
      "Epoch: 0 Iteration: 6000 Loss: tensor(0.0782)\n",
      "Epoch: 0 Iteration: 6100 Loss: tensor(0.0769)\n",
      "Epoch: 0 Iteration: 6200 Loss: tensor(0.0757)\n",
      "Epoch: 0 Iteration: 6300 Loss: tensor(0.0745)\n",
      "Epoch: 0 Iteration: 6400 Loss: tensor(0.0734)\n",
      "Epoch: 0 Iteration: 6500 Loss: tensor(0.0723)\n",
      "Epoch: 0 Iteration: 6600 Loss: tensor(0.0712)\n",
      "Epoch: 0 Iteration: 6700 Loss: tensor(0.0702)\n",
      "Epoch: 0 Iteration: 6800 Loss: tensor(0.0692)\n",
      "Epoch: 0 Iteration: 6900 Loss: tensor(0.0864)\n",
      "Epoch: 0 Iteration: 7000 Loss: tensor(0.1028)\n",
      "Epoch: 0 Iteration: 7100 Loss: tensor(0.1053)\n",
      "Epoch: 0 Iteration: 7200 Loss: tensor(0.1087)\n",
      "Epoch: 0 Iteration: 7300 Loss: tensor(0.1095)\n",
      "Epoch: 0 Iteration: 7400 Loss: tensor(0.1103)\n",
      "Epoch: 0 Iteration: 7500 Loss: tensor(0.1110)\n",
      "Epoch: 0 Iteration: 7600 Loss: tensor(0.1112)\n",
      "Epoch: 0 Iteration: 7700 Loss: tensor(0.1110)\n",
      "Epoch: 0 Iteration: 7800 Loss: tensor(0.1108)\n",
      "Epoch: 0 Iteration: 7900 Loss: tensor(0.1101)\n",
      "Epoch: 0 Iteration: 8000 Loss: tensor(0.1093)\n",
      "Epoch: 0 Iteration: 8100 Loss: tensor(0.1089)\n",
      "Epoch: 0 Iteration: 8200 Loss: tensor(0.1083)\n",
      "Epoch: 0 Iteration: 8300 Loss: tensor(0.1076)\n",
      "Epoch: 0 Iteration: 8400 Loss: tensor(0.1066)\n",
      "Epoch: 0 Iteration: 8500 Loss: tensor(0.1055)\n",
      "Epoch: 0 Iteration: 8600 Loss: tensor(0.1044)\n",
      "Epoch: 0 Iteration: 8700 Loss: tensor(0.1033)\n",
      "Epoch: 0 Iteration: 8800 Loss: tensor(0.1022)\n",
      "Epoch: 0 Iteration: 8900 Loss: tensor(0.1011)\n",
      "Epoch: 0 Iteration: 9000 Loss: tensor(0.1000)\n",
      "Epoch: 0 Iteration: 9100 Loss: tensor(0.0990)\n",
      "Epoch: 0 Iteration: 9200 Loss: tensor(0.0980)\n",
      "Epoch: 0 Iteration: 9300 Loss: tensor(0.0970)\n",
      "Epoch: 0 Iteration: 9400 Loss: tensor(0.0960)\n",
      "Epoch: 0 Iteration: 9500 Loss: tensor(0.0950)\n",
      "Epoch: 0 Iteration: 9600 Loss: tensor(0.0941)\n",
      "Epoch: 0 Iteration: 9700 Loss: tensor(0.0931)\n",
      "Epoch: 0 Iteration: 9800 Loss: tensor(0.0922)\n",
      "Epoch: 0 Iteration: 9900 Loss: tensor(0.0913)\n",
      "Epoch: 0 Iteration: 10000 Loss: tensor(0.0904)\n",
      "Epoch: 0 Iteration: 10100 Loss: tensor(0.0895)\n",
      "Epoch: 0 Iteration: 10200 Loss: tensor(0.0887)\n",
      "Epoch: 0 Iteration: 10300 Loss: tensor(0.0878)\n",
      "Epoch: 0 Iteration: 10400 Loss: tensor(0.0870)\n",
      "Epoch: 0 Iteration: 10500 Loss: tensor(0.0862)\n",
      "Epoch: 0 Iteration: 10600 Loss: tensor(0.0854)\n",
      "Epoch: 0 Iteration: 10700 Loss: tensor(0.0847)\n",
      "Epoch: 0 Iteration: 10800 Loss: tensor(0.0839)\n",
      "Epoch: 0 Iteration: 10900 Loss: tensor(0.0832)\n"
     ]
    },
    {
     "ename": "KeyboardInterrupt",
     "evalue": "",
     "output_type": "error",
     "traceback": [
      "\u001b[0;31m---------------------------------------------------------------------------\u001b[0m",
      "\u001b[0;31mKeyboardInterrupt\u001b[0m                         Traceback (most recent call last)",
      "Cell \u001b[0;32mIn[3], line 1\u001b[0m\n\u001b[0;32m----> 1\u001b[0m \u001b[43mrunner\u001b[49m\u001b[38;5;241;43m.\u001b[39;49m\u001b[43mtrain\u001b[49m\u001b[43m(\u001b[49m\u001b[43m)\u001b[49m\n",
      "File \u001b[0;32m~/workspace/math2latex/src/runner.py:53\u001b[0m, in \u001b[0;36mRunner.train\u001b[0;34m(self)\u001b[0m\n\u001b[1;32m     51\u001b[0m epoch_loss \u001b[38;5;241m=\u001b[39m []\n\u001b[1;32m     52\u001b[0m \u001b[38;5;28;01mfor\u001b[39;00m \u001b[38;5;28miter\u001b[39m, batch \u001b[38;5;129;01min\u001b[39;00m \u001b[38;5;28menumerate\u001b[39m(\u001b[38;5;28mself\u001b[39m\u001b[38;5;241m.\u001b[39mtrain_dataloader):\n\u001b[0;32m---> 53\u001b[0m     loss \u001b[38;5;241m=\u001b[39m \u001b[38;5;28;43mself\u001b[39;49m\u001b[38;5;241;43m.\u001b[39;49m\u001b[43mtrain_step\u001b[49m\u001b[43m(\u001b[49m\u001b[43mbatch\u001b[49m\u001b[43m)\u001b[49m\n\u001b[1;32m     54\u001b[0m     epoch_loss\u001b[38;5;241m.\u001b[39mappend(loss\u001b[38;5;241m.\u001b[39mitem())\n\u001b[1;32m     55\u001b[0m     \u001b[38;5;28;01mif\u001b[39;00m \u001b[38;5;28miter\u001b[39m \u001b[38;5;241m%\u001b[39m \u001b[38;5;241m100\u001b[39m \u001b[38;5;241m==\u001b[39m \u001b[38;5;241m0\u001b[39m \u001b[38;5;129;01mand\u001b[39;00m epoch_loss:\n",
      "File \u001b[0;32m~/workspace/math2latex/src/runner.py:45\u001b[0m, in \u001b[0;36mRunner.train_step\u001b[0;34m(self, batch)\u001b[0m\n\u001b[1;32m     43\u001b[0m output \u001b[38;5;241m=\u001b[39m \u001b[38;5;28mself\u001b[39m\u001b[38;5;241m.\u001b[39mmodel(images, targets)\n\u001b[1;32m     44\u001b[0m loss \u001b[38;5;241m=\u001b[39m \u001b[38;5;28mself\u001b[39m\u001b[38;5;241m.\u001b[39mloss(output, targets)\n\u001b[0;32m---> 45\u001b[0m \u001b[43mloss\u001b[49m\u001b[38;5;241;43m.\u001b[39;49m\u001b[43mbackward\u001b[49m\u001b[43m(\u001b[49m\u001b[43m)\u001b[49m\n\u001b[1;32m     46\u001b[0m \u001b[38;5;28mself\u001b[39m\u001b[38;5;241m.\u001b[39moptimizer\u001b[38;5;241m.\u001b[39mstep()\n\u001b[1;32m     47\u001b[0m \u001b[38;5;28;01mreturn\u001b[39;00m loss\n",
      "File \u001b[0;32m~/workspace/math2latex/venv/lib/python3.10/site-packages/torch/_tensor.py:522\u001b[0m, in \u001b[0;36mTensor.backward\u001b[0;34m(self, gradient, retain_graph, create_graph, inputs)\u001b[0m\n\u001b[1;32m    512\u001b[0m \u001b[38;5;28;01mif\u001b[39;00m has_torch_function_unary(\u001b[38;5;28mself\u001b[39m):\n\u001b[1;32m    513\u001b[0m     \u001b[38;5;28;01mreturn\u001b[39;00m handle_torch_function(\n\u001b[1;32m    514\u001b[0m         Tensor\u001b[38;5;241m.\u001b[39mbackward,\n\u001b[1;32m    515\u001b[0m         (\u001b[38;5;28mself\u001b[39m,),\n\u001b[0;32m   (...)\u001b[0m\n\u001b[1;32m    520\u001b[0m         inputs\u001b[38;5;241m=\u001b[39minputs,\n\u001b[1;32m    521\u001b[0m     )\n\u001b[0;32m--> 522\u001b[0m \u001b[43mtorch\u001b[49m\u001b[38;5;241;43m.\u001b[39;49m\u001b[43mautograd\u001b[49m\u001b[38;5;241;43m.\u001b[39;49m\u001b[43mbackward\u001b[49m\u001b[43m(\u001b[49m\n\u001b[1;32m    523\u001b[0m \u001b[43m    \u001b[49m\u001b[38;5;28;43mself\u001b[39;49m\u001b[43m,\u001b[49m\u001b[43m \u001b[49m\u001b[43mgradient\u001b[49m\u001b[43m,\u001b[49m\u001b[43m \u001b[49m\u001b[43mretain_graph\u001b[49m\u001b[43m,\u001b[49m\u001b[43m \u001b[49m\u001b[43mcreate_graph\u001b[49m\u001b[43m,\u001b[49m\u001b[43m \u001b[49m\u001b[43minputs\u001b[49m\u001b[38;5;241;43m=\u001b[39;49m\u001b[43minputs\u001b[49m\n\u001b[1;32m    524\u001b[0m \u001b[43m\u001b[49m\u001b[43m)\u001b[49m\n",
      "File \u001b[0;32m~/workspace/math2latex/venv/lib/python3.10/site-packages/torch/autograd/__init__.py:266\u001b[0m, in \u001b[0;36mbackward\u001b[0;34m(tensors, grad_tensors, retain_graph, create_graph, grad_variables, inputs)\u001b[0m\n\u001b[1;32m    261\u001b[0m     retain_graph \u001b[38;5;241m=\u001b[39m create_graph\n\u001b[1;32m    263\u001b[0m \u001b[38;5;66;03m# The reason we repeat the same comment below is that\u001b[39;00m\n\u001b[1;32m    264\u001b[0m \u001b[38;5;66;03m# some Python versions print out the first line of a multi-line function\u001b[39;00m\n\u001b[1;32m    265\u001b[0m \u001b[38;5;66;03m# calls in the traceback and some print out the last line\u001b[39;00m\n\u001b[0;32m--> 266\u001b[0m \u001b[43mVariable\u001b[49m\u001b[38;5;241;43m.\u001b[39;49m\u001b[43m_execution_engine\u001b[49m\u001b[38;5;241;43m.\u001b[39;49m\u001b[43mrun_backward\u001b[49m\u001b[43m(\u001b[49m\u001b[43m  \u001b[49m\u001b[38;5;66;43;03m# Calls into the C++ engine to run the backward pass\u001b[39;49;00m\n\u001b[1;32m    267\u001b[0m \u001b[43m    \u001b[49m\u001b[43mtensors\u001b[49m\u001b[43m,\u001b[49m\n\u001b[1;32m    268\u001b[0m \u001b[43m    \u001b[49m\u001b[43mgrad_tensors_\u001b[49m\u001b[43m,\u001b[49m\n\u001b[1;32m    269\u001b[0m \u001b[43m    \u001b[49m\u001b[43mretain_graph\u001b[49m\u001b[43m,\u001b[49m\n\u001b[1;32m    270\u001b[0m \u001b[43m    \u001b[49m\u001b[43mcreate_graph\u001b[49m\u001b[43m,\u001b[49m\n\u001b[1;32m    271\u001b[0m \u001b[43m    \u001b[49m\u001b[43minputs\u001b[49m\u001b[43m,\u001b[49m\n\u001b[1;32m    272\u001b[0m \u001b[43m    \u001b[49m\u001b[43mallow_unreachable\u001b[49m\u001b[38;5;241;43m=\u001b[39;49m\u001b[38;5;28;43;01mTrue\u001b[39;49;00m\u001b[43m,\u001b[49m\n\u001b[1;32m    273\u001b[0m \u001b[43m    \u001b[49m\u001b[43maccumulate_grad\u001b[49m\u001b[38;5;241;43m=\u001b[39;49m\u001b[38;5;28;43;01mTrue\u001b[39;49;00m\u001b[43m,\u001b[49m\n\u001b[1;32m    274\u001b[0m \u001b[43m\u001b[49m\u001b[43m)\u001b[49m\n",
      "\u001b[0;31mKeyboardInterrupt\u001b[0m: "
     ]
    }
   ],
   "source": [
    "runner.train()"
   ]
  }
 ],
 "metadata": {
  "kernelspec": {
   "display_name": "myenv",
   "language": "python",
   "name": "python3"
  },
  "language_info": {
   "codemirror_mode": {
    "name": "ipython",
    "version": 3
   },
   "file_extension": ".py",
   "mimetype": "text/x-python",
   "name": "python",
   "nbconvert_exporter": "python",
   "pygments_lexer": "ipython3",
   "version": "3.10.12"
  },
  "orig_nbformat": 4
 },
 "nbformat": 4,
 "nbformat_minor": 2
}
